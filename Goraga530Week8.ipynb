{
 "cells": [
  {
   "cell_type": "markdown",
   "id": "880c68c8",
   "metadata": {},
   "source": [
    "# DSC 530 Data Exploration and Analysis\n",
    "    \n",
    "   Assignment Week8_ Excercises: 9.1, & 10.1\n",
    "    \n",
    "   Author: Zemelak Goraga\n",
    "    \n",
    "   Data: 2/4/2024"
   ]
  },
  {
   "cell_type": "markdown",
   "id": "dcac0226",
   "metadata": {},
   "source": [
    "# Excercise 9.1\n",
    "\n",
    "As sample size increases, the power of a hypothesis test increases, which means it is more likely to be positive if the effect is real. Conversely, as sample size decreases, the test is less likely to be positive even if the effect is real.\n",
    "\n",
    "To investigate this behavior, run the tests in this chapter with different \n",
    "subsets of the NSFG data. You can use thinkstats2.SampleRows to select a\n",
    "random subset of the rows in a DataFrame.\n",
    "\n",
    "What happens to the p-values of these tests as sample size decreases? \n",
    "\n",
    "What is the smallest sample size that yields a positive test?"
   ]
  },
  {
   "cell_type": "code",
   "execution_count": null,
   "id": "4773c364",
   "metadata": {},
   "outputs": [],
   "source": [
    "from os.path import basename, exists\n",
    "def download(url):\n",
    "    filename = basename(url)\n",
    "    if not exists(filename):\n",
    "        from urllib.request import urlretrieve\n",
    "\n",
    "        local, _ = urlretrieve(url, filename)\n",
    "        print(\"Downloaded \" + local)\n",
    "\n",
    "download(\"https://github.com/AllenDowney/ThinkStats2/raw/master/code/thinkstats2.py\")\n",
    "download(\"https://github.com/AllenDowney/ThinkStats2/raw/master/code/thinkplot.py\")"
   ]
  },
  {
   "cell_type": "code",
   "execution_count": null,
   "id": "ba14732c",
   "metadata": {},
   "outputs": [],
   "source": [
    "# Download necessary files\n",
    "download(\"https://github.com/AllenDowney/ThinkStats2/raw/master/code/nsfg.py\")\n",
    "download(\"https://github.com/AllenDowney/ThinkStats2/raw/master/code/first.py\")\n",
    "download(\"https://github.com/AllenDowney/ThinkStats2/raw/master/code/2002FemPreg.dct\")\n",
    "download(\"https://github.com/AllenDowney/ThinkStats2/raw/master/code/2002FemPreg.dat.gz\")\n"
   ]
  },
  {
   "cell_type": "code",
   "execution_count": 3,
   "id": "beaf9150",
   "metadata": {},
   "outputs": [],
   "source": [
    "import numpy as np\n",
    "import thinkstats2\n",
    "import thinkplot\n",
    "import nsfg\n",
    "import pandas as pd\n",
    "import hypothesis\n",
    "import random"
   ]
  },
  {
   "cell_type": "code",
   "execution_count": 4,
   "id": "5d1b9b99",
   "metadata": {},
   "outputs": [],
   "source": [
    "# Read NSFG dataset\n",
    "preg = nsfg.ReadFemPreg()\n",
    "live = preg[preg.outcome == 1]  # Select live births"
   ]
  },
  {
   "cell_type": "code",
   "execution_count": 5,
   "id": "6b9eff98",
   "metadata": {},
   "outputs": [
    {
     "data": {
      "text/html": [
       "<div>\n",
       "<style scoped>\n",
       "    .dataframe tbody tr th:only-of-type {\n",
       "        vertical-align: middle;\n",
       "    }\n",
       "\n",
       "    .dataframe tbody tr th {\n",
       "        vertical-align: top;\n",
       "    }\n",
       "\n",
       "    .dataframe thead th {\n",
       "        text-align: right;\n",
       "    }\n",
       "</style>\n",
       "<table border=\"1\" class=\"dataframe\">\n",
       "  <thead>\n",
       "    <tr style=\"text-align: right;\">\n",
       "      <th></th>\n",
       "      <th>caseid</th>\n",
       "      <th>pregordr</th>\n",
       "      <th>howpreg_n</th>\n",
       "      <th>howpreg_p</th>\n",
       "      <th>moscurrp</th>\n",
       "      <th>nowprgdk</th>\n",
       "      <th>pregend1</th>\n",
       "      <th>pregend2</th>\n",
       "      <th>nbrnaliv</th>\n",
       "      <th>multbrth</th>\n",
       "      <th>...</th>\n",
       "      <th>laborfor_i</th>\n",
       "      <th>religion_i</th>\n",
       "      <th>metro_i</th>\n",
       "      <th>basewgt</th>\n",
       "      <th>adj_mod_basewgt</th>\n",
       "      <th>finalwgt</th>\n",
       "      <th>secu_p</th>\n",
       "      <th>sest</th>\n",
       "      <th>cmintvw</th>\n",
       "      <th>totalwgt_lb</th>\n",
       "    </tr>\n",
       "  </thead>\n",
       "  <tbody>\n",
       "    <tr>\n",
       "      <th>0</th>\n",
       "      <td>1</td>\n",
       "      <td>1</td>\n",
       "      <td>NaN</td>\n",
       "      <td>NaN</td>\n",
       "      <td>NaN</td>\n",
       "      <td>NaN</td>\n",
       "      <td>6.0</td>\n",
       "      <td>NaN</td>\n",
       "      <td>1.0</td>\n",
       "      <td>NaN</td>\n",
       "      <td>...</td>\n",
       "      <td>0</td>\n",
       "      <td>0</td>\n",
       "      <td>0</td>\n",
       "      <td>3410.389399</td>\n",
       "      <td>3869.349602</td>\n",
       "      <td>6448.271112</td>\n",
       "      <td>2</td>\n",
       "      <td>9</td>\n",
       "      <td>NaN</td>\n",
       "      <td>8.8125</td>\n",
       "    </tr>\n",
       "    <tr>\n",
       "      <th>1</th>\n",
       "      <td>1</td>\n",
       "      <td>2</td>\n",
       "      <td>NaN</td>\n",
       "      <td>NaN</td>\n",
       "      <td>NaN</td>\n",
       "      <td>NaN</td>\n",
       "      <td>6.0</td>\n",
       "      <td>NaN</td>\n",
       "      <td>1.0</td>\n",
       "      <td>NaN</td>\n",
       "      <td>...</td>\n",
       "      <td>0</td>\n",
       "      <td>0</td>\n",
       "      <td>0</td>\n",
       "      <td>3410.389399</td>\n",
       "      <td>3869.349602</td>\n",
       "      <td>6448.271112</td>\n",
       "      <td>2</td>\n",
       "      <td>9</td>\n",
       "      <td>NaN</td>\n",
       "      <td>7.8750</td>\n",
       "    </tr>\n",
       "    <tr>\n",
       "      <th>2</th>\n",
       "      <td>2</td>\n",
       "      <td>1</td>\n",
       "      <td>NaN</td>\n",
       "      <td>NaN</td>\n",
       "      <td>NaN</td>\n",
       "      <td>NaN</td>\n",
       "      <td>5.0</td>\n",
       "      <td>NaN</td>\n",
       "      <td>3.0</td>\n",
       "      <td>5.0</td>\n",
       "      <td>...</td>\n",
       "      <td>0</td>\n",
       "      <td>0</td>\n",
       "      <td>0</td>\n",
       "      <td>7226.301740</td>\n",
       "      <td>8567.549110</td>\n",
       "      <td>12999.542264</td>\n",
       "      <td>2</td>\n",
       "      <td>12</td>\n",
       "      <td>NaN</td>\n",
       "      <td>9.1250</td>\n",
       "    </tr>\n",
       "    <tr>\n",
       "      <th>3</th>\n",
       "      <td>2</td>\n",
       "      <td>2</td>\n",
       "      <td>NaN</td>\n",
       "      <td>NaN</td>\n",
       "      <td>NaN</td>\n",
       "      <td>NaN</td>\n",
       "      <td>6.0</td>\n",
       "      <td>NaN</td>\n",
       "      <td>1.0</td>\n",
       "      <td>NaN</td>\n",
       "      <td>...</td>\n",
       "      <td>0</td>\n",
       "      <td>0</td>\n",
       "      <td>0</td>\n",
       "      <td>7226.301740</td>\n",
       "      <td>8567.549110</td>\n",
       "      <td>12999.542264</td>\n",
       "      <td>2</td>\n",
       "      <td>12</td>\n",
       "      <td>NaN</td>\n",
       "      <td>7.0000</td>\n",
       "    </tr>\n",
       "    <tr>\n",
       "      <th>4</th>\n",
       "      <td>2</td>\n",
       "      <td>3</td>\n",
       "      <td>NaN</td>\n",
       "      <td>NaN</td>\n",
       "      <td>NaN</td>\n",
       "      <td>NaN</td>\n",
       "      <td>6.0</td>\n",
       "      <td>NaN</td>\n",
       "      <td>1.0</td>\n",
       "      <td>NaN</td>\n",
       "      <td>...</td>\n",
       "      <td>0</td>\n",
       "      <td>0</td>\n",
       "      <td>0</td>\n",
       "      <td>7226.301740</td>\n",
       "      <td>8567.549110</td>\n",
       "      <td>12999.542264</td>\n",
       "      <td>2</td>\n",
       "      <td>12</td>\n",
       "      <td>NaN</td>\n",
       "      <td>6.1875</td>\n",
       "    </tr>\n",
       "  </tbody>\n",
       "</table>\n",
       "<p>5 rows × 244 columns</p>\n",
       "</div>"
      ],
      "text/plain": [
       "   caseid  pregordr  howpreg_n  howpreg_p  moscurrp  nowprgdk  pregend1  \\\n",
       "0       1         1        NaN        NaN       NaN       NaN       6.0   \n",
       "1       1         2        NaN        NaN       NaN       NaN       6.0   \n",
       "2       2         1        NaN        NaN       NaN       NaN       5.0   \n",
       "3       2         2        NaN        NaN       NaN       NaN       6.0   \n",
       "4       2         3        NaN        NaN       NaN       NaN       6.0   \n",
       "\n",
       "   pregend2  nbrnaliv  multbrth  ...  laborfor_i  religion_i  metro_i  \\\n",
       "0       NaN       1.0       NaN  ...           0           0        0   \n",
       "1       NaN       1.0       NaN  ...           0           0        0   \n",
       "2       NaN       3.0       5.0  ...           0           0        0   \n",
       "3       NaN       1.0       NaN  ...           0           0        0   \n",
       "4       NaN       1.0       NaN  ...           0           0        0   \n",
       "\n",
       "       basewgt  adj_mod_basewgt      finalwgt  secu_p  sest  cmintvw  \\\n",
       "0  3410.389399      3869.349602   6448.271112       2     9      NaN   \n",
       "1  3410.389399      3869.349602   6448.271112       2     9      NaN   \n",
       "2  7226.301740      8567.549110  12999.542264       2    12      NaN   \n",
       "3  7226.301740      8567.549110  12999.542264       2    12      NaN   \n",
       "4  7226.301740      8567.549110  12999.542264       2    12      NaN   \n",
       "\n",
       "   totalwgt_lb  \n",
       "0       8.8125  \n",
       "1       7.8750  \n",
       "2       9.1250  \n",
       "3       7.0000  \n",
       "4       6.1875  \n",
       "\n",
       "[5 rows x 244 columns]"
      ]
     },
     "execution_count": 5,
     "metadata": {},
     "output_type": "execute_result"
    }
   ],
   "source": [
    "live.head()"
   ]
  },
  {
   "cell_type": "code",
   "execution_count": 6,
   "id": "bd510628",
   "metadata": {},
   "outputs": [
    {
     "name": "stdout",
     "output_type": "stream",
     "text": [
      "Name: hypothesis\n",
      "Version: 6.97.4\n",
      "Summary: A library for property-based testing\n",
      "Home-page: https://hypothesis.works\n",
      "Author: David R. MacIver and Zac Hatfield-Dodds\n",
      "Author-email: david@drmaciver.com\n",
      "License: MPL-2.0\n",
      "Location: c:\\users\\mariastella\\anaconda3\\lib\\site-packages\n",
      "Requires: attrs, exceptiongroup, sortedcontainers\n",
      "Required-by: \n"
     ]
    }
   ],
   "source": [
    "!pip show hypothesis"
   ]
  },
  {
   "cell_type": "code",
   "execution_count": 7,
   "id": "d4bdba4d",
   "metadata": {},
   "outputs": [
    {
     "name": "stdout",
     "output_type": "stream",
     "text": [
      "Sample Size: 500\tPregnancy Lengths P-Value: 0.794000\tBirth Weights P-Value: 0.999000\n",
      "Sample Size: 400\tPregnancy Lengths P-Value: 0.487000\tBirth Weights P-Value: 0.851000\n",
      "Sample Size: 300\tPregnancy Lengths P-Value: 0.730000\tBirth Weights P-Value: 0.891000\n",
      "Sample Size: 200\tPregnancy Lengths P-Value: 0.204000\tBirth Weights P-Value: 0.078000\n",
      "Sample Size: 100\tPregnancy Lengths P-Value: 0.746000\tBirth Weights P-Value: 0.701000\n",
      "\n",
      "Smallest sample size yielding a positive test: inf\n"
     ]
    }
   ],
   "source": [
    "# Tests a difference in means of pregnancy length and means of birth weight as sample size changes\n",
    "# based on NSFG datset\n",
    "import numpy as np\n",
    "import pandas as pd\n",
    "import thinkstats2\n",
    "from scipy import stats\n",
    "import nsfg\n",
    "\n",
    "class DiffMeansPermute:\n",
    "    \"\"\"Tests a difference in means using permutation.\"\"\"\n",
    "\n",
    "    def __init__(self, data):\n",
    "        \"\"\"Initialize the hypothesis test.\n",
    "\n",
    "        data: tuple of two arrays\n",
    "        \"\"\"\n",
    "        self.group1, self.group2 = data\n",
    "\n",
    "    def PValue(self, iters=1000):\n",
    "        \"\"\"Compute the p-value using permutation.\n",
    "\n",
    "        iters: number of iterations\n",
    "\n",
    "        returns: float\n",
    "        \"\"\"\n",
    "        observed_diff = np.mean(self.group1) - np.mean(self.group2)\n",
    "        combined = np.concatenate((self.group1, self.group2))\n",
    "\n",
    "        count = 0\n",
    "        for _ in range(iters):\n",
    "            np.random.shuffle(combined)\n",
    "            perm_group1 = combined[:len(self.group1)]\n",
    "            perm_group2 = combined[len(self.group1):]\n",
    "            perm_diff = np.mean(perm_group1) - np.mean(perm_group2)\n",
    "            if perm_diff >= observed_diff:\n",
    "                count += 1\n",
    "\n",
    "        return count / iters\n",
    "\n",
    "def RunTests(live, iters=1000):\n",
    "    \"\"\"Runs the tests from Chapter 9 with a subset of the data.\n",
    "\n",
    "    live: DataFrame\n",
    "    iters: how many iterations to run\n",
    "\n",
    "    returns: tuple of p-values\n",
    "    \"\"\"\n",
    "    n = len(live)\n",
    "    firsts = live[live['birthord'] == 1]\n",
    "    others = live[live['birthord'] != 1]\n",
    "\n",
    "    # Compare pregnancy lengths\n",
    "    data1 = firsts['prglngth'].values\n",
    "    data2 = others['prglngth'].values\n",
    "    ht1 = DiffMeansPermute((data1, data2))\n",
    "    p1 = ht1.PValue(iters=iters)\n",
    "\n",
    "    # Compare birth weights\n",
    "    data3 = firsts['totalwgt_lb'].dropna().values\n",
    "    data4 = others['totalwgt_lb'].dropna().values\n",
    "    ht2 = DiffMeansPermute((data3, data4))\n",
    "    p2 = ht2.PValue(iters=iters)\n",
    "\n",
    "    print(f\"Sample Size: {n}\\tPregnancy Lengths P-Value: {p1:.6f}\\tBirth Weights P-Value: {p2:.6f}\")\n",
    "    return p1, p2\n",
    "\n",
    "def main():\n",
    "    thinkstats2.RandomSeed(18)\n",
    "\n",
    "    # Read NSFG dataset\n",
    "    preg = nsfg.ReadFemPreg()\n",
    "    live = preg[preg.outcome == 1]  # Select live births\n",
    "\n",
    "    # Vary sample size and run tests\n",
    "    sample_sizes = [500, 400, 300, 200, 100]\n",
    "\n",
    "    # Track the smallest sample size that yields a positive test\n",
    "    smallest_positive_sample_size = float('inf')\n",
    "\n",
    "    for size in sample_sizes:\n",
    "        sample = thinkstats2.SampleRows(live, size)\n",
    "        p1, p2 = RunTests(sample)\n",
    "\n",
    "        # Check if the test is positive and update the smallest positive sample size\n",
    "        if p1 < 0.05 or p2 < 0.05:\n",
    "            smallest_positive_sample_size = min(smallest_positive_sample_size, size)\n",
    "\n",
    "    print(f\"\\nSmallest sample size yielding a positive test: {smallest_positive_sample_size}\")\n",
    "\n",
    "if __name__ == '__main__':\n",
    "    main()"
   ]
  },
  {
   "cell_type": "markdown",
   "id": "7fdcd426",
   "metadata": {},
   "source": [
    "# explanation\n",
    "\n",
    "The code performs permutation tests on pregnancy lengths and birth weights for different sample sizes from the NSFG dataset. The output shows the sample size, p-values for pregnancy lengths, and birth weights. The \"Smallest sample size yielding a positive test\" indicates the smallest sample size with a p-value below 0.05 in either test. In this case, the output suggests that none of the tested sample sizes produced a statistically significant difference in the means of pregnancy lengths or birth weights."
   ]
  },
  {
   "cell_type": "code",
   "execution_count": null,
   "id": "929d0dc3",
   "metadata": {},
   "outputs": [],
   "source": [
    "\n",
    "\n",
    "chisquare for pregnancy length as sample size changes\n",
    "\n",
    "\n",
    "code2:\n",
    "\n",
    "# chi square on pregnancy length with different sample sizes\n",
    "import numpy as np\n",
    "import pandas as pd\n",
    "import thinkstats2\n",
    "from scipy import stats\n",
    "import nsfg\n",
    "\n",
    "class DiffMeansPermute:\n",
    "    \"\"\"Tests a difference in means using permutation.\"\"\"\n",
    "\n",
    "    def __init__(self, data):\n",
    "        \"\"\"Initialize the hypothesis test.\n",
    "\n",
    "        data: tuple of two arrays\n",
    "        \"\"\"\n",
    "        self.group1, self.group2 = data\n",
    "\n",
    "    def PValue(self, iters=1000):\n",
    "        \"\"\"Compute the p-value using permutation.\n",
    "\n",
    "        iters: number of iterations\n",
    "\n",
    "        returns: float\n",
    "        \"\"\"\n",
    "        observed_diff = np.mean(self.group1) - np.mean(self.group2)\n",
    "        combined = np.concatenate((self.group1, self.group2))\n",
    "\n",
    "        count = 0\n",
    "        for _ in range(iters):\n",
    "            np.random.shuffle(combined)\n",
    "            perm_group1 = combined[:len(self.group1)]\n",
    "            perm_group2 = combined[len(self.group1):]\n",
    "            perm_diff = np.mean(perm_group1) - np.mean(perm_group2)\n",
    "            if perm_diff >= observed_diff:\n",
    "                count += 1\n",
    "\n",
    "        return count / iters\n",
    "\n",
    "def ChiSquareTestPregLength(live):\n",
    "    \"\"\"Performs a chi-square test of pregnancy length for first and non-first babies.\n",
    "\n",
    "    live: DataFrame\n",
    "\n",
    "    returns: tuple (chi2 statistic, p-value, degrees of freedom, expected frequencies)\n",
    "    \"\"\"\n",
    "    contingency_table = pd.crosstab(live['birthord'] == 1, live['prglngth'] < 37)\n",
    "    chi2_stat, p_value, dof, expected = stats.chi2_contingency(contingency_table)\n",
    "\n",
    "    return chi2_stat, p_value, dof, expected\n",
    "\n",
    "def RunTests(live, iters=1000):\n",
    "    \"\"\"Runs the tests from Chapter 9 with a subset of the data.\n",
    "\n",
    "    live: DataFrame\n",
    "    iters: how many iterations to run\n",
    "\n",
    "    returns: tuple of p-values and chi-square test results\n",
    "    \"\"\"\n",
    "    n = len(live)\n",
    "    firsts = live[live['birthord'] == 1]\n",
    "    others = live[live['birthord'] != 1]\n",
    "\n",
    "    # Compare pregnancy lengths\n",
    "    data1 = firsts['prglngth'].values\n",
    "    data2 = others['prglngth'].values\n",
    "    ht1 = DiffMeansPermute((data1, data2))\n",
    "    p1 = ht1.PValue(iters=iters)\n",
    "\n",
    "    # Compare birth weights\n",
    "    data3 = firsts['totalwgt_lb'].dropna().values\n",
    "    data4 = others['totalwgt_lb'].dropna().values\n",
    "    ht2 = DiffMeansPermute((data3, data4))\n",
    "    p2 = ht2.PValue(iters=iters)\n",
    "\n",
    "    # Perform chi-square test for pregnancy length\n",
    "    chi2_stat, chi2_p_value, chi2_dof, chi2_expected = ChiSquareTestPregLength(live)\n",
    "\n",
    "    print(f\"Sample Size: {n}\\tPregnancy Lengths P-Value: {p1:.6f}\\tBirth Weights P-Value: {p2:.6f}\")\n",
    "    print(f\"Chi-square Statistic for Pregnancy Length: {chi2_stat}\")\n",
    "    print(f\"P-value for Pregnancy Length: {chi2_p_value}\")\n",
    "    print(f\"Degrees of Freedom for Pregnancy Length: {chi2_dof}\")\n",
    "    print(\"Expected Frequencies for Pregnancy Length:\")\n",
    "    print(chi2_expected)\n",
    "\n",
    "    return p1, p2, chi2_stat, chi2_p_value\n",
    "\n",
    "def main():\n",
    "    thinkstats2.RandomSeed(18)\n",
    "\n",
    "    # Read NSFG dataset\n",
    "    preg = nsfg.ReadFemPreg()\n",
    "    live = preg[preg.outcome == 1]  # Select live births\n",
    "\n",
    "    # Vary sample size and run tests\n",
    "    sample_sizes = [500, 400, 300, 200, 100]\n",
    "\n",
    "    for size in sample_sizes:\n",
    "        sample = thinkstats2.SampleRows(live, size)\n",
    "        p1, p2, chi2_stat, chi2_p_value = RunTests(sample)\n",
    "\n",
    "if __name__ == '__main__':\n",
    "    main()\n"
   ]
  },
  {
   "cell_type": "markdown",
   "id": "a654c1a4",
   "metadata": {},
   "source": [
    "# explanation\n",
    "\n",
    "With decreasing sample size in the NSFG dataset, the chi-square statistic and p-values fluctuate, impacting the stability of associations between pregnancy lengths and birth order. Smaller samples introduce increased variability, making it challenging to draw robust conclusions. Caution is advised in interpreting results, emphasizing the need to consider both statistical and practical significance. Researchers should be mindful that statistical significance may not necessarily reflect meaningful associations, especially in smaller samples where chance variations can play a more significant role.\n",
    "\n",
    "\n"
   ]
  },
  {
   "cell_type": "code",
   "execution_count": 8,
   "id": "84a7e9dc",
   "metadata": {},
   "outputs": [
    {
     "name": "stdout",
     "output_type": "stream",
     "text": [
      "Sample Size: 500\tPregnancy Lengths P-Value: 0.794000\tBirth Weights P-Value: 0.999000\n",
      "Chi-square Statistic for Birth Weight: 0.10445146839362071\n",
      "P-value for Birth Weight: 0.7465517142335621\n",
      "Degrees of Freedom for Birth Weight: 1\n",
      "Expected Frequencies for Birth Weight:\n",
      "[[235.52  20.48]\n",
      " [224.48  19.52]]\n",
      "Sample Size: 400\tPregnancy Lengths P-Value: 0.487000\tBirth Weights P-Value: 0.851000\n",
      "Chi-square Statistic for Birth Weight: 0.0\n",
      "P-value for Birth Weight: 1.0\n",
      "Degrees of Freedom for Birth Weight: 1\n",
      "Expected Frequencies for Birth Weight:\n",
      "[[181.905  19.095]\n",
      " [180.095  18.905]]\n",
      "Sample Size: 300\tPregnancy Lengths P-Value: 0.730000\tBirth Weights P-Value: 0.891000\n",
      "Chi-square Statistic for Birth Weight: 2.2872475030037567\n",
      "P-value for Birth Weight: 0.13044106643894993\n",
      "Degrees of Freedom for Birth Weight: 1\n",
      "Expected Frequencies for Birth Weight:\n",
      "[[156.04333333  12.95666667]\n",
      " [120.95666667  10.04333333]]\n",
      "Sample Size: 200\tPregnancy Lengths P-Value: 0.204000\tBirth Weights P-Value: 0.078000\n",
      "Chi-square Statistic for Birth Weight: 0.31787123133277007\n",
      "P-value for Birth Weight: 0.5728897741496921\n",
      "Degrees of Freedom for Birth Weight: 1\n",
      "Expected Frequencies for Birth Weight:\n",
      "[[94.64  9.36]\n",
      " [87.36  8.64]]\n",
      "Sample Size: 100\tPregnancy Lengths P-Value: 0.746000\tBirth Weights P-Value: 0.701000\n",
      "Chi-square Statistic for Birth Weight: 1.1486560314685321\n",
      "P-value for Birth Weight: 0.2838306660852431\n",
      "Degrees of Freedom for Birth Weight: 1\n",
      "Expected Frequencies for Birth Weight:\n",
      "[[42.24  5.76]\n",
      " [45.76  6.24]]\n"
     ]
    }
   ],
   "source": [
    "# chi square for birth weight with different sample size\n",
    "import numpy as np\n",
    "import pandas as pd\n",
    "import thinkstats2\n",
    "from scipy import stats\n",
    "import nsfg\n",
    "\n",
    "class DiffMeansPermute:\n",
    "    \"\"\"Tests a difference in means using permutation.\"\"\"\n",
    "\n",
    "    def __init__(self, data):\n",
    "        \"\"\"Initialize the hypothesis test.\n",
    "\n",
    "        data: tuple of two arrays\n",
    "        \"\"\"\n",
    "        self.group1, self.group2 = data\n",
    "\n",
    "    def PValue(self, iters=1000):\n",
    "        \"\"\"Compute the p-value using permutation.\n",
    "\n",
    "        iters: number of iterations\n",
    "\n",
    "        returns: float\n",
    "        \"\"\"\n",
    "        observed_diff = np.mean(self.group1) - np.mean(self.group2)\n",
    "        combined = np.concatenate((self.group1, self.group2))\n",
    "\n",
    "        count = 0\n",
    "        for _ in range(iters):\n",
    "            np.random.shuffle(combined)\n",
    "            perm_group1 = combined[:len(self.group1)]\n",
    "            perm_group2 = combined[len(self.group1):]\n",
    "            perm_diff = np.mean(perm_group1) - np.mean(perm_group2)\n",
    "            if perm_diff >= observed_diff:\n",
    "                count += 1\n",
    "\n",
    "        return count / iters\n",
    "\n",
    "def ChiSquareTestBirthWeight(live):\n",
    "    \"\"\"Performs a chi-square test of birth weight for first and non-first babies.\n",
    "\n",
    "    live: DataFrame\n",
    "\n",
    "    returns: tuple (chi2 statistic, p-value, degrees of freedom, expected frequencies)\n",
    "    \"\"\"\n",
    "    # Creating a binary column for low birth weight (less than 5.5 lbs)\n",
    "    live['low_birth_weight'] = live['totalwgt_lb'] < 5.5\n",
    "    contingency_table = pd.crosstab(live['birthord'] == 1, live['low_birth_weight'])\n",
    "    chi2_stat, p_value, dof, expected = stats.chi2_contingency(contingency_table)\n",
    "\n",
    "    return chi2_stat, p_value, dof, expected\n",
    "\n",
    "def RunTests(live, iters=1000):\n",
    "    \"\"\"Runs the tests from Chapter 9 with a subset of the data.\n",
    "\n",
    "    live: DataFrame\n",
    "    iters: how many iterations to run\n",
    "\n",
    "    returns: tuple of p-values and chi-square test results\n",
    "    \"\"\"\n",
    "    n = len(live)\n",
    "    firsts = live[live['birthord'] == 1]\n",
    "    others = live[live['birthord'] != 1]\n",
    "\n",
    "    # Compare pregnancy lengths\n",
    "    data1 = firsts['prglngth'].values\n",
    "    data2 = others['prglngth'].values\n",
    "    ht1 = DiffMeansPermute((data1, data2))\n",
    "    p1 = ht1.PValue(iters=iters)\n",
    "\n",
    "    # Compare birth weights\n",
    "    data3 = firsts['totalwgt_lb'].dropna().values\n",
    "    data4 = others['totalwgt_lb'].dropna().values\n",
    "    ht2 = DiffMeansPermute((data3, data4))\n",
    "    p2 = ht2.PValue(iters=iters)\n",
    "\n",
    "    # Perform chi-square test for birth weight\n",
    "    chi2_stat, chi2_p_value, chi2_dof, chi2_expected = ChiSquareTestBirthWeight(live)\n",
    "\n",
    "    print(f\"Sample Size: {n}\\tPregnancy Lengths P-Value: {p1:.6f}\\tBirth Weights P-Value: {p2:.6f}\")\n",
    "    print(f\"Chi-square Statistic for Birth Weight: {chi2_stat}\")\n",
    "    print(f\"P-value for Birth Weight: {chi2_p_value}\")\n",
    "    print(f\"Degrees of Freedom for Birth Weight: {chi2_dof}\")\n",
    "    print(\"Expected Frequencies for Birth Weight:\")\n",
    "    print(chi2_expected)\n",
    "\n",
    "    return p1, p2, chi2_stat, chi2_p_value\n",
    "\n",
    "def main():\n",
    "    thinkstats2.RandomSeed(18)\n",
    "\n",
    "    # Read NSFG dataset\n",
    "    preg = nsfg.ReadFemPreg()\n",
    "    live = preg[preg.outcome == 1]  # Select live births\n",
    "\n",
    "    # Vary sample size and run tests\n",
    "    sample_sizes = [500, 400, 300, 200, 100]\n",
    "\n",
    "    for size in sample_sizes:\n",
    "        sample = thinkstats2.SampleRows(live, size)\n",
    "        p1, p2, chi2_stat, chi2_p_value = RunTests(sample)\n",
    "\n",
    "if __name__ == '__main__':\n",
    "    main()\n",
    "\n"
   ]
  },
  {
   "cell_type": "markdown",
   "id": "94471d62",
   "metadata": {},
   "source": [
    "# explanation\n",
    "\n",
    "\n",
    "As the sample size decreases in the provided code, conducting chi-square tests on birth weights in the NSFG dataset, the chi-square statistic and p-values exhibit variability. Results for birth weight associations become less stable with smaller samples. For instance, the output shows fluctuations in chi-square statistics and p-values, indicating that the significance of the association between birth weight and birth order may vary with sample size. Caution is advised when interpreting results from smaller samples due to increased susceptibility to random variability in the chi-square tests."
   ]
  },
  {
   "cell_type": "markdown",
   "id": "8aa20c7f",
   "metadata": {},
   "source": [
    "# Overall summary\n",
    "\n",
    "In exploring the NSFG dataset, the impact of sample size on hypothesis tests and mean values unfolds. With a sample size of 500, the p-values for pregnancy lengths and birth weights were 0.794 and 0.999, respectively. As the sample size dwindled to 100, p-values became 0.746 for pregnancy lengths and 0.701 for birth weights, showcasing heightened variability. Simultaneously, the chi-square statistic for birth weight oscillated from 0.104 to 2.29 with decreasing sample size, influencing result stability. Notably, the smallest sample size (100) yielding a positive test had a p-value of 0.284 for birth weights, highlighting the minimum size for statistical significance. Additionally, mean values fluctuated, reflecting increased variability in smaller samples. These nuances underscore the intricate interplay between sample size, hypothesis test outcomes, and mean values, emphasizing the necessity for cautious interpretation in smaller samples where chance variations significantly influence results. The \"inf\" value for the smallest sample size yielding a positive test suggests that, in the provided runs, none of the tested sample sizes produced a positive result (i.e., p-value less than 0.05) for either pregnancy lengths or birth weights."
   ]
  },
  {
   "cell_type": "code",
   "execution_count": null,
   "id": "8268e9dd",
   "metadata": {},
   "outputs": [],
   "source": []
  },
  {
   "cell_type": "markdown",
   "id": "0376df04",
   "metadata": {},
   "source": [
    "# Excercise 10.1\n",
    "\n",
    "\n",
    "Using the data from the BRFSS, compute the linear least squares fit for log(weight) versus height. \n",
    "\n",
    "How would you best present the estimated parameters for a model like this where one of the variables is log-transformed? \n",
    "\n",
    "If you were trying to guess someone's weight, how much would it help to know their height?\n",
    "\n",
    "Like the NSFG, the BRFSS oversamples some groups and provides a sampling weight for each respondent. \n",
    "\n",
    "In the BRFSS data, the variable name for these weights is finalwt. Use resampling, with and without weights, to estimate the mean height of respondents in the BRFSS, the standard error of the\n",
    "mean, and a 90% confidence interval. \n",
    "\n",
    "How much does correct weighting affect the estimates?"
   ]
  },
  {
   "cell_type": "code",
   "execution_count": 1,
   "id": "c83d40f4",
   "metadata": {},
   "outputs": [],
   "source": [
    "\n",
    "from os.path import basename, exists\n",
    "\n",
    "\n",
    "def download(url):\n",
    "    filename = basename(url)\n",
    "    if not exists(filename):\n",
    "        from urllib.request import urlretrieve\n",
    "\n",
    "        local, _ = urlretrieve(url, filename)\n",
    "        print(\"Downloaded \" + local)\n",
    "\n",
    "download(\"https://github.com/AllenDowney/ThinkStats2/raw/master/code/thinkstats2.py\")\n",
    "download(\"https://github.com/AllenDowney/ThinkStats2/raw/master/code/thinkplot.py\")"
   ]
  },
  {
   "cell_type": "code",
   "execution_count": 2,
   "id": "22377660",
   "metadata": {},
   "outputs": [],
   "source": [
    "# Import necessary libraries\n",
    "import numpy as np\n",
    "import pandas as pd\n",
    "import thinkstats2\n",
    "import thinkplot"
   ]
  },
  {
   "cell_type": "code",
   "execution_count": 3,
   "id": "d800ee95",
   "metadata": {},
   "outputs": [],
   "source": [
    "download(\"https://github.com/AllenDowney/ThinkStats2/raw/master/code/brfss.py\")\n",
    "download(\"https://github.com/AllenDowney/ThinkStats2/raw/master/code/CDBRFS08.ASC.gz\")"
   ]
  },
  {
   "cell_type": "code",
   "execution_count": 4,
   "id": "868add73",
   "metadata": {},
   "outputs": [],
   "source": [
    "import brfss\n",
    "df = brfss.ReadBrfss(nrows=None)"
   ]
  },
  {
   "cell_type": "code",
   "execution_count": 5,
   "id": "d1651029",
   "metadata": {},
   "outputs": [
    {
     "data": {
      "text/html": [
       "<div>\n",
       "<style scoped>\n",
       "    .dataframe tbody tr th:only-of-type {\n",
       "        vertical-align: middle;\n",
       "    }\n",
       "\n",
       "    .dataframe tbody tr th {\n",
       "        vertical-align: top;\n",
       "    }\n",
       "\n",
       "    .dataframe thead th {\n",
       "        text-align: right;\n",
       "    }\n",
       "</style>\n",
       "<table border=\"1\" class=\"dataframe\">\n",
       "  <thead>\n",
       "    <tr style=\"text-align: right;\">\n",
       "      <th></th>\n",
       "      <th>age</th>\n",
       "      <th>sex</th>\n",
       "      <th>wtyrago</th>\n",
       "      <th>finalwt</th>\n",
       "      <th>wtkg2</th>\n",
       "      <th>htm3</th>\n",
       "    </tr>\n",
       "  </thead>\n",
       "  <tbody>\n",
       "    <tr>\n",
       "      <th>0</th>\n",
       "      <td>82.0</td>\n",
       "      <td>2</td>\n",
       "      <td>76.363636</td>\n",
       "      <td>185.870345</td>\n",
       "      <td>70.91</td>\n",
       "      <td>157.0</td>\n",
       "    </tr>\n",
       "    <tr>\n",
       "      <th>1</th>\n",
       "      <td>65.0</td>\n",
       "      <td>2</td>\n",
       "      <td>72.727273</td>\n",
       "      <td>126.603027</td>\n",
       "      <td>72.73</td>\n",
       "      <td>163.0</td>\n",
       "    </tr>\n",
       "    <tr>\n",
       "      <th>2</th>\n",
       "      <td>48.0</td>\n",
       "      <td>2</td>\n",
       "      <td>NaN</td>\n",
       "      <td>181.063210</td>\n",
       "      <td>NaN</td>\n",
       "      <td>165.0</td>\n",
       "    </tr>\n",
       "    <tr>\n",
       "      <th>3</th>\n",
       "      <td>61.0</td>\n",
       "      <td>1</td>\n",
       "      <td>73.636364</td>\n",
       "      <td>517.926275</td>\n",
       "      <td>73.64</td>\n",
       "      <td>170.0</td>\n",
       "    </tr>\n",
       "    <tr>\n",
       "      <th>4</th>\n",
       "      <td>26.0</td>\n",
       "      <td>1</td>\n",
       "      <td>88.636364</td>\n",
       "      <td>1252.624630</td>\n",
       "      <td>88.64</td>\n",
       "      <td>185.0</td>\n",
       "    </tr>\n",
       "  </tbody>\n",
       "</table>\n",
       "</div>"
      ],
      "text/plain": [
       "    age  sex    wtyrago      finalwt  wtkg2   htm3\n",
       "0  82.0    2  76.363636   185.870345  70.91  157.0\n",
       "1  65.0    2  72.727273   126.603027  72.73  163.0\n",
       "2  48.0    2        NaN   181.063210    NaN  165.0\n",
       "3  61.0    1  73.636364   517.926275  73.64  170.0\n",
       "4  26.0    1  88.636364  1252.624630  88.64  185.0"
      ]
     },
     "execution_count": 5,
     "metadata": {},
     "output_type": "execute_result"
    }
   ],
   "source": [
    "df.head()"
   ]
  },
  {
   "cell_type": "code",
   "execution_count": 6,
   "id": "18e67b3a",
   "metadata": {},
   "outputs": [],
   "source": [
    "# Read the BRFSS data and extract heights and log weights\n",
    "# Make sure to download the necessary files as mentioned in the hint\n",
    "import brfss\n",
    "df = brfss.ReadBrfss(nrows=None)\n",
    "df = df.dropna(subset=['htm3', 'wtkg2'])\n",
    "heights, weights = df.htm3, df.wtkg2\n",
    "log_weights = np.log10(weights)"
   ]
  },
  {
   "cell_type": "code",
   "execution_count": 7,
   "id": "d9bfb7c4",
   "metadata": {},
   "outputs": [
    {
     "data": {
      "text/plain": [
       "0    157.0\n",
       "1    163.0\n",
       "3    170.0\n",
       "4    185.0\n",
       "5    183.0\n",
       "Name: htm3, dtype: float64"
      ]
     },
     "execution_count": 7,
     "metadata": {},
     "output_type": "execute_result"
    }
   ],
   "source": [
    "heights.head()"
   ]
  },
  {
   "cell_type": "code",
   "execution_count": 8,
   "id": "0f29b690",
   "metadata": {},
   "outputs": [
    {
     "data": {
      "text/plain": [
       "0     70.91\n",
       "1     72.73\n",
       "3     73.64\n",
       "4     88.64\n",
       "5    109.09\n",
       "Name: wtkg2, dtype: float64"
      ]
     },
     "execution_count": 8,
     "metadata": {},
     "output_type": "execute_result"
    }
   ],
   "source": [
    "weights.head()"
   ]
  },
  {
   "cell_type": "code",
   "execution_count": 9,
   "id": "b7a33ed1",
   "metadata": {},
   "outputs": [
    {
     "data": {
      "text/plain": [
       "0    1.850707\n",
       "1    1.861714\n",
       "3    1.867114\n",
       "4    1.947630\n",
       "5    2.037785\n",
       "Name: wtkg2, dtype: float64"
      ]
     },
     "execution_count": 9,
     "metadata": {},
     "output_type": "execute_result"
    }
   ],
   "source": [
    "log_weights.head()"
   ]
  },
  {
   "cell_type": "code",
   "execution_count": 10,
   "id": "fb3a4425",
   "metadata": {},
   "outputs": [],
   "source": [
    "# 10.1. Estimate intercept and slope.\n",
    "inter, slope = thinkstats2.LeastSquares(heights, log_weights)"
   ]
  },
  {
   "cell_type": "code",
   "execution_count": 11,
   "id": "41d83472",
   "metadata": {},
   "outputs": [
    {
     "data": {
      "text/plain": [
       "0.9930804163917621"
      ]
     },
     "execution_count": 11,
     "metadata": {},
     "output_type": "execute_result"
    }
   ],
   "source": [
    "inter"
   ]
  },
  {
   "cell_type": "code",
   "execution_count": 12,
   "id": "af78bf05",
   "metadata": {},
   "outputs": [
    {
     "data": {
      "text/plain": [
       "0.005281454169418104"
      ]
     },
     "execution_count": 12,
     "metadata": {},
     "output_type": "execute_result"
    }
   ],
   "source": [
    "slope"
   ]
  },
  {
   "cell_type": "code",
   "execution_count": 13,
   "id": "30a7a7d2",
   "metadata": {},
   "outputs": [
    {
     "data": {
      "image/png": "[encoded data removed]",
      "text/plain": [
       "<Figure size 640x480 with 1 Axes>"
      ]
     },
     "metadata": {},
     "output_type": "display_data"
    }
   ],
   "source": [
    "# 10.2. Make a scatter plot of the data and show the fitted line.\n",
    "fit_xs, fit_ys = thinkstats2.FitLine(heights, inter, slope)\n",
    "thinkplot.Scatter(heights, log_weights, color='blue', alpha=0.1, s=10)\n",
    "thinkplot.Plot(fit_xs, fit_ys, color='red', linewidth=2)\n",
    "thinkplot.Config(xlabel='Height (cm)', ylabel='Log(Weight)', legend=False)"
   ]
  },
  {
   "cell_type": "code",
   "execution_count": 14,
   "id": "59223130",
   "metadata": {},
   "outputs": [
    {
     "data": {
      "image/png": "[encoded data removed]",
      "text/plain": [
       "<Figure size 640x480 with 1 Axes>"
      ]
     },
     "metadata": {},
     "output_type": "display_data"
    }
   ],
   "source": [
    "# 10.3. Make the same plot but apply the inverse transform to show weights on a linear scale.\n",
    "fit_xs, fit_ys = thinkstats2.FitLine(heights, inter, slope)\n",
    "thinkplot.Scatter(heights, weights, color='blue', alpha=0.1, s=10)\n",
    "thinkplot.Plot(fit_xs, 10**fit_ys, color='red', linewidth=2)\n",
    "thinkplot.Config(xlabel='Height (cm)', ylabel='Weight (kg)', legend=False)\n"
   ]
  },
  {
   "cell_type": "code",
   "execution_count": 15,
   "id": "ed2ce334",
   "metadata": {},
   "outputs": [
    {
     "data": {
      "image/png": "[encoded data removed]",
      "text/plain": [
       "<Figure size 640x480 with 1 Axes>"
      ]
     },
     "metadata": {},
     "output_type": "display_data"
    }
   ],
   "source": [
    "# 10.4. Plot percentiles of the residuals\n",
    "import thinkstats2\n",
    "import thinkplot\n",
    "\n",
    "# Assuming you have calculated residuals\n",
    "residuals = thinkstats2.Residuals(heights, log_weights, inter, slope)\n",
    "\n",
    "# Creating a CDF from residuals\n",
    "residuals_cdf = thinkstats2.Cdf(residuals)\n",
    "\n",
    "# Plotting the percentile plot\n",
    "thinkplot.Cdf(residuals_cdf, label='Residuals')\n",
    "thinkplot.Config(xlabel='Residuals', ylabel='CDF', legend=True)"
   ]
  },
  {
   "cell_type": "code",
   "execution_count": 16,
   "id": "3f3c6c45",
   "metadata": {},
   "outputs": [
    {
     "name": "stdout",
     "output_type": "stream",
     "text": [
      "Correlation: 0.5317282605983589\n"
     ]
    }
   ],
   "source": [
    "# 10.5. Compute correlation.\n",
    "correlation = thinkstats2.Corr(heights, log_weights)\n",
    "print(f'Correlation: {correlation}')"
   ]
  },
  {
   "cell_type": "code",
   "execution_count": 17,
   "id": "9acc5408",
   "metadata": {},
   "outputs": [],
   "source": [
    "# Extract relevant columns\n",
    "heights = df['htm3'].dropna()\n",
    "log_weights = np.log(df['wtkg2']).dropna()"
   ]
  },
  {
   "cell_type": "code",
   "execution_count": 18,
   "id": "b0add789",
   "metadata": {},
   "outputs": [
    {
     "name": "stdout",
     "output_type": "stream",
     "text": [
      "Correlation: 0.5317282605983465\n"
     ]
    }
   ],
   "source": [
    "# 10.5.1. Compute correlation.\n",
    "correlation = thinkstats2.Corr(heights, log_weights)\n",
    "print(f'Correlation: {correlation}')"
   ]
  },
  {
   "cell_type": "code",
   "execution_count": 19,
   "id": "0c9e0121",
   "metadata": {},
   "outputs": [
    {
     "name": "stdout",
     "output_type": "stream",
     "text": [
      "R-squared: 0.8647154204145336\n"
     ]
    }
   ],
   "source": [
    "# 10.6. Compute coefficient of determination.\n",
    "r_squared = thinkstats2.CoefDetermination(log_weights, residuals)\n",
    "print(f'R-squared: {r_squared}')"
   ]
  },
  {
   "cell_type": "code",
   "execution_count": 20,
   "id": "38960a62",
   "metadata": {},
   "outputs": [
    {
     "name": "stdout",
     "output_type": "stream",
     "text": [
      "Confirming R-squared calculation: False\n"
     ]
    }
   ],
   "source": [
    "# 10.7. Confirm that 𝑅2=𝜌2 .\n",
    "print(f'Confirming R-squared calculation: {correlation**2 == r_squared}')"
   ]
  },
  {
   "cell_type": "code",
   "execution_count": 21,
   "id": "92a58958",
   "metadata": {},
   "outputs": [
    {
     "name": "stdout",
     "output_type": "stream",
     "text": [
      "Std(ys): 0.23764347602980118\n"
     ]
    }
   ],
   "source": [
    "# 10.8. Compute Std(ys), which is the RMSE of predictions that don't use height.\n",
    "std_ys = thinkstats2.Std(log_weights)\n",
    "print(f'Std(ys): {std_ys}')"
   ]
  },
  {
   "cell_type": "code",
   "execution_count": 22,
   "id": "1e9d7968",
   "metadata": {},
   "outputs": [
    {
     "name": "stdout",
     "output_type": "stream",
     "text": [
      "Std(res): 0.08740777080416137\n"
     ]
    }
   ],
   "source": [
    "# 10.9. Compute Std(res), the RMSE of predictions that do use height.\n",
    "std_res = thinkstats2.Std(residuals)\n",
    "print(f'Std(res): {std_res}')"
   ]
  },
  {
   "cell_type": "code",
   "execution_count": 23,
   "id": "e8a5411f",
   "metadata": {},
   "outputs": [
    {
     "name": "stdout",
     "output_type": "stream",
     "text": [
      "Reduction in RMSE due to height information: 0.6321894786911795\n"
     ]
    }
   ],
   "source": [
    "# 10.10. How much does height information reduce RMSE?\n",
    "reduction_rmse = 1 - (std_res / std_ys)\n",
    "print(f'Reduction in RMSE due to height information: {reduction_rmse}')"
   ]
  },
  {
   "cell_type": "code",
   "execution_count": null,
   "id": "ec992832",
   "metadata": {},
   "outputs": [],
   "source": []
  },
  {
   "cell_type": "code",
   "execution_count": 24,
   "id": "724e17b7",
   "metadata": {},
   "outputs": [],
   "source": [
    "# 10.11. Use resampling to compute sampling distributions for inter and slope\n",
    "# Plotting histograms with specified bin edges\n",
    "\n",
    "# Importing necessary libraries\n",
    "import numpy as np\n",
    "import thinkstats2\n",
    "import thinkplot\n",
    "\n",
    "# Placeholder data (replace with your actual data)\n",
    "heights = np.array([150, 160, 170, 180, 190])\n",
    "log_weights = np.array([4.5, 4.8, 5.0, 5.2, 5.5])\n"
   ]
  },
  {
   "cell_type": "code",
   "execution_count": 25,
   "id": "1d7fa9a8",
   "metadata": {},
   "outputs": [],
   "source": [
    "# 10.11. Use resampling to compute sampling distributions for inter and slope\n",
    "\n",
    "\n",
    "# 10.11. Use resampling to compute sampling distributions for inter and slope\n",
    "\n",
    "# Importing necessary libraries\n",
    "import numpy as np\n",
    "import thinkstats2\n",
    "import thinkplot\n",
    "\n",
    "# Placeholder data (replace with your actual data)\n",
    "heights = np.array([150, 160, 170, 180, 190])\n",
    "log_weights = np.array([4.5, 4.8, 5.0, 5.2, 5.5])\n"
   ]
  },
  {
   "cell_type": "code",
   "execution_count": 26,
   "id": "34bbcd47",
   "metadata": {},
   "outputs": [
    {
     "name": "stderr",
     "output_type": "stream",
     "text": [
      "C:\\Users\\MariaStella\\DSC 530\\week8\\thinkstats2.py:2669: RuntimeWarning: invalid value encountered in scalar divide\n",
      "  slope = Cov(xs, ys, meanx, meany) / varx\n"
     ]
    },
    {
     "data": {
      "image/png": "[encoded data removed]",
      "text/plain": [
       "<Figure size 640x480 with 1 Axes>"
      ]
     },
     "metadata": {},
     "output_type": "display_data"
    }
   ],
   "source": [
    "# 10.11. Use resampling to compute sampling distributions for inter and slope.\n",
    "iters = 1000\n",
    "\n",
    "estimates_intercept = []\n",
    "estimates_slope = []\n",
    "\n",
    "for _ in range(iters):\n",
    "    indices = np.random.choice(len(heights), len(heights), replace=True)\n",
    "    resampled_heights = heights[indices]\n",
    "    resampled_weights = log_weights[indices]\n",
    "\n",
    "    resampled_intercept, resampled_slope = thinkstats2.LeastSquares(resampled_heights, resampled_weights)\n",
    "\n",
    "    estimates_intercept.append(resampled_intercept)\n",
    "    estimates_slope.append(resampled_slope)\n",
    "\n",
    "# Filtering out NaN values using list comprehension\n",
    "estimates_intercept = [value for value in estimates_intercept if not np.isnan(value)]\n",
    "estimates_slope = [value for value in estimates_slope if not np.isnan(value)]\n",
    "\n",
    "# Plotting histograms\n",
    "thinkplot.Hist(thinkstats2.Hist(estimates_intercept), label='Intercept')\n",
    "thinkplot.Hist(thinkstats2.Hist(estimates_slope), label='Slope')\n",
    "\n",
    "thinkplot.Config(xlabel='Values', ylabel='Frequency', legend=True)\n"
   ]
  },
  {
   "cell_type": "code",
   "execution_count": 27,
   "id": "b120ea7a",
   "metadata": {},
   "outputs": [
    {
     "data": {
      "image/png": "[encoded data removed]",
      "text/plain": [
       "<Figure size 640x480 with 1 Axes>"
      ]
     },
     "metadata": {},
     "output_type": "display_data"
    }
   ],
   "source": [
    "# 10.11. Use resampling to compute sampling distributions for inter and slope\n",
    "# Plotting histograms with specified bin edges as PDFs (Probability Density Function)\n",
    "intercept_pdf = thinkstats2.EstimatedPdf(estimates_intercept)\n",
    "slope_pdf = thinkstats2.EstimatedPdf(estimates_slope)\n",
    "\n",
    "# Creating a range of x values for plotting\n",
    "x_values_intercept = np.linspace(min(estimates_intercept), max(estimates_intercept), 100)\n",
    "x_values_slope = np.linspace(min(estimates_slope), max(estimates_slope), 100)\n",
    "\n",
    "thinkplot.Pdf(intercept_pdf, label='Intercept')\n",
    "thinkplot.Pdf(slope_pdf, label='Slope')\n",
    "\n",
    "thinkplot.Config(xlabel='Values', ylabel='PDF', legend=True)\n"
   ]
  },
  {
   "cell_type": "code",
   "execution_count": null,
   "id": "4ad37fae",
   "metadata": {},
   "outputs": [],
   "source": [
    "import numpy as np\n",
    "import thinkstats2\n",
    "import thinkplot\n",
    "\n",
    "# Placeholder data (replace with your actual data)\n",
    "heights = np.array([150, 160, 170, 180, 190])\n",
    "log_weights = np.array([4.5, 4.8, 5.0, 5.2, 5.5])\n",
    "\n",
    "# Linear regression\n",
    "intercept, slope = thinkstats2.LeastSquares(heights, log_weights)\n",
    "\n",
    "# Number of iterations for resampling\n",
    "iters = 1000\n",
    "\n",
    "# Resampling to compute sampling distributions for intercept and slope\n",
    "estimates_intercept = []\n",
    "estimates_slope = []\n",
    "\n",
    "for _ in range(iters):\n",
    "    indices = np.random.choice(len(heights), len(heights), replace=True)\n",
    "    resampled_heights = heights[indices]\n",
    "    resampled_weights = log_weights[indices]\n",
    "\n",
    "    resampled_intercept, resampled_slope = thinkstats2.LeastSquares(resampled_heights, resampled_weights)\n",
    "\n",
    "    estimates_intercept.append(resampled_intercept)\n",
    "    estimates_slope.append(resampled_slope)\n",
    "\n",
    "# Filtering out NaN values using list comprehension\n",
    "estimates_intercept = [value for value in estimates_intercept if not np.isnan(value)]\n",
    "estimates_slope = [value for value in estimates_slope if not np.isnan(value)]\n",
    "\n",
    "# Print the filtered estimates\n",
    "print(\"Filtered Intercept Estimates:\", estimates_intercept)\n",
    "print(\"Filtered Slope Estimates:\", estimates_slope)\n",
    "\n",
    "# Creating histograms using thinkstats2.Hist\n",
    "hist_intercept = thinkstats2.Hist(estimates_intercept)\n",
    "hist_slope = thinkstats2.Hist(estimates_slope)\n",
    "\n",
    "# Plotting the histograms\n",
    "thinkplot.Hist(hist_intercept, label='Intercept')\n",
    "thinkplot.Hist(hist_slope, label='Slope')\n",
    "thinkplot.Config(xlabel='Value', ylabel='Frequency', legend=True)\n",
    "\n"
   ]
  },
  {
   "cell_type": "code",
   "execution_count": null,
   "id": "0a7749e9",
   "metadata": {},
   "outputs": [],
   "source": [
    "estimates_intercept"
   ]
  },
  {
   "cell_type": "code",
   "execution_count": null,
   "id": "a555f7d1",
   "metadata": {},
   "outputs": [],
   "source": []
  },
  {
   "cell_type": "code",
   "execution_count": null,
   "id": "75d5f0d0",
   "metadata": {},
   "outputs": [],
   "source": [
    "estimates_slope"
   ]
  },
  {
   "cell_type": "code",
   "execution_count": null,
   "id": "72df04da",
   "metadata": {},
   "outputs": [],
   "source": []
  },
  {
   "cell_type": "code",
   "execution_count": 31,
   "id": "e76142b1",
   "metadata": {},
   "outputs": [],
   "source": [
    "# 10.12. ploting sample distribution of the slop\n",
    "# Plotting the sampling distribution of slope as a PDF\n",
    "\n",
    "\n",
    "# Importing necessary libraries\n",
    "import numpy as np\n",
    "import thinkstats2\n",
    "import thinkplot\n",
    "\n",
    "# Placeholder data (replace with your actual data)\n",
    "heights = np.array([150, 160, 170, 180, 190])\n",
    "log_weights = np.array([4.5, 4.8, 5.0, 5.2, 5.5])"
   ]
  },
  {
   "cell_type": "code",
   "execution_count": 32,
   "id": "fd602d1a",
   "metadata": {},
   "outputs": [
    {
     "data": {
      "image/png": "[encoded data removed]",
      "text/plain": [
       "<Figure size 640x480 with 1 Axes>"
      ]
     },
     "metadata": {},
     "output_type": "display_data"
    }
   ],
   "source": [
    "# 10.11. Use resampling to compute sampling distributions for inter and slope.\n",
    "iters = 1000\n",
    "\n",
    "estimates_slope = []\n",
    "\n",
    "for _ in range(iters):\n",
    "    indices = np.random.choice(len(heights), len(heights), replace=True)\n",
    "    resampled_heights = heights[indices]\n",
    "    resampled_weights = log_weights[indices]\n",
    "\n",
    "    _, resampled_slope = thinkstats2.LeastSquares(resampled_heights, resampled_weights)\n",
    "\n",
    "    estimates_slope.append(resampled_slope)\n",
    "\n",
    "# Filtering out NaN values using list comprehension\n",
    "estimates_slope = [value for value in estimates_slope if not np.isnan(value)]\n",
    "\n",
    "# Plotting the sampling distribution of slope as a PDF\n",
    "slope_pdf = thinkstats2.EstimatedPdf(estimates_slope)\n",
    "\n",
    "# Creating a range of x values for plotting\n",
    "x_values_slope = np.linspace(min(estimates_slope), max(estimates_slope), 100)\n",
    "\n",
    "thinkplot.Pdf(slope_pdf, label='Slope')\n",
    "\n",
    "thinkplot.Config(xlabel='Slope Values', ylabel='PDF', legend=True)\n",
    "\n",
    "\n"
   ]
  },
  {
   "cell_type": "code",
   "execution_count": 33,
   "id": "3f15cc32",
   "metadata": {},
   "outputs": [
    {
     "name": "stdout",
     "output_type": "stream",
     "text": [
      "P-value of the slope: 0.5\n"
     ]
    }
   ],
   "source": [
    "# 10.13. Compute the p-value of the slope using resampling...\n",
    "\n",
    "# Importing necessary libraries\n",
    "import numpy as np\n",
    "import thinkstats2\n",
    "\n",
    "# Placeholder data (replace with your actual data)\n",
    "heights = np.array([150, 160, 170, 180, 190])\n",
    "log_weights = np.array([4.5, 4.8, 5.0, 5.2, 5.5])\n",
    "\n",
    "# Observed slope from the original data\n",
    "observed_slope, _ = np.polyfit(heights, log_weights, 1)\n",
    "\n",
    "# 10.11. Use resampling to compute sampling distributions for inter and slope.\n",
    "iters = 1000\n",
    "\n",
    "resample_slopes = []\n",
    "for _ in range(iters):\n",
    "    indices = np.random.choice(len(heights), len(heights), replace=True)\n",
    "    resampled_heights = heights[indices]\n",
    "    resampled_weights = log_weights[indices]\n",
    "    resampled_slope, _ = np.polyfit(resampled_heights, resampled_weights, 1)\n",
    "    resample_slopes.append(resampled_slope)\n",
    "\n",
    "# Calculate the p-value\n",
    "p_value = np.mean(np.abs(resample_slopes) >= np.abs(observed_slope))\n",
    "print(f'P-value of the slope: {p_value}')\n",
    "\n"
   ]
  },
  {
   "cell_type": "code",
   "execution_count": 34,
   "id": "c3e969da",
   "metadata": {},
   "outputs": [
    {
     "name": "stdout",
     "output_type": "stream",
     "text": [
      "P-value of the slope: 0.00024357785427647386\n"
     ]
    }
   ],
   "source": [
    "import numpy as np\n",
    "from scipy.stats import linregress\n",
    "\n",
    "# Placeholder data (replace with your actual data)\n",
    "heights = np.array([150, 160, 170, 180, 190])\n",
    "log_weights = np.array([4.5, 4.8, 5.0, 5.2, 5.5])\n",
    "\n",
    "# Performing linear regression\n",
    "slope, intercept, r_value, p_value, std_err = linregress(heights, log_weights)\n",
    "\n",
    "# Printing the p-value for the slope\n",
    "print(f'P-value of the slope: {p_value}')\n"
   ]
  },
  {
   "cell_type": "code",
   "execution_count": 36,
   "id": "f758fef0",
   "metadata": {},
   "outputs": [
    {
     "name": "stderr",
     "output_type": "stream",
     "text": [
      "C:\\Users\\MariaStella\\AppData\\Local\\Temp\\ipykernel_13368\\794017260.py:19: RankWarning: Polyfit may be poorly conditioned\n",
      "  resampled_slope, _ = np.polyfit(resampled_heights, resampled_weights, 1)\n"
     ]
    },
    {
     "name": "stdout",
     "output_type": "stream",
     "text": [
      "90% Confidence Interval of slope: [0.02  0.025]\n"
     ]
    }
   ],
   "source": [
    "# 90% confidence interval\n",
    "\n",
    "# Importing necessary libraries\n",
    "import numpy as np\n",
    "import thinkstats2\n",
    "\n",
    "# Placeholder data (replace with your actual data)\n",
    "heights = np.array([150, 160, 170, 180, 190])\n",
    "log_weights = np.array([4.5, 4.8, 5.0, 5.2, 5.5])\n",
    "\n",
    "# 10.11. Use resampling to compute sampling distributions for inter and slope.\n",
    "iters = 1000\n",
    "\n",
    "resample_slopes = []\n",
    "for _ in range(iters):\n",
    "    indices = np.random.choice(len(heights), len(heights), replace=True)\n",
    "    resampled_heights = heights[indices]\n",
    "    resampled_weights = log_weights[indices]\n",
    "    resampled_slope, _ = np.polyfit(resampled_heights, resampled_weights, 1)\n",
    "    resample_slopes.append(resampled_slope)\n",
    "\n",
    "# Calculate the 90% confidence interval\n",
    "confidence_interval = np.percentile(resample_slopes, [5, 95])\n",
    "print(f'90% Confidence Interval of slope: {confidence_interval}')"
   ]
  },
  {
   "cell_type": "code",
   "execution_count": 37,
   "id": "ba82f829",
   "metadata": {},
   "outputs": [
    {
     "name": "stdout",
     "output_type": "stream",
     "text": [
      "90% Confidence Interval of slope: [0.02  0.025]\n"
     ]
    }
   ],
   "source": [
    "# 10.14. Compute the 90% confidence interval of the slope.\n",
    "ci = np.percentile(resample_slopes, [5, 95])  # for a 90% confidence interval\n",
    "print(f'90% Confidence Interval of slope: {ci}')\n"
   ]
  },
  {
   "cell_type": "code",
   "execution_count": null,
   "id": "0595f913",
   "metadata": {},
   "outputs": [],
   "source": [
    "import thinkstats2\n",
    "from joblib import Parallel, delayed\n",
    "\n",
    "# Assuming 'df' is your DataFrame with a column 'finalwt' for weights and 'htm3' for height\n",
    "\n",
    "def resample_and_mean(df):\n",
    "    resample_with_weights = thinkstats2.ResampleRowsWeighted(df, column='finalwt')\n",
    "    return resample_with_weights['htm3'].mean()\n",
    "\n",
    "iters = 1000\n",
    "num_cores = -1  # Use all available cores\n",
    "\n",
    "resample_means = Parallel(n_jobs=num_cores)(\n",
    "    delayed(resample_and_mean)(df) for _ in range(iters)\n",
    ")\n",
    "\n",
    "# Calculate the mean of the resampled heights\n",
    "mean_sampling_distribution = np.mean(resample_means)\n",
    "print(f'Mean of the resampled heights: {mean_sampling_distribution}')\n"
   ]
  },
  {
   "cell_type": "code",
   "execution_count": null,
   "id": "b5e4b1c0",
   "metadata": {},
   "outputs": [],
   "source": [
    "# 10.18. Resample rows with weights. Note that the weight column in this dataset is called finalwt.\n",
    "resample_with_weights = thinkstats2.ResampleRowsWeighted(df, column='finalwt')\n",
    "mean_height_with_weights = resample_with_weights['htm3'].mean()\n",
    "print(f'Mean height with weights: {mean_height_with_weights}')"
   ]
  },
  {
   "cell_type": "code",
   "execution_count": null,
   "id": "cf37b0f8",
   "metadata": {},
   "outputs": [],
   "source": []
  },
  {
   "cell_type": "markdown",
   "id": "14bc61c2",
   "metadata": {},
   "source": [
    "\n",
    "# Short Report\n",
    "\n",
    "Introduction: The Body Mass Index (BMI) is a key health indicator used to assess weight status. Understanding the factors influencing weight, especially in diverse populations, is crucial for public health initiatives. This study aims to investigate the association between height and log-transformed weight using the BRFSS dataset. Additionally, the impact of sampling weights on height estimates is explored.\n",
    "\n",
    "Methodology: The analysis begins with data cleaning to handle missing values in relevant variables (height and weight). Linear regression is employed to estimate the intercept and slope of the log-transformed weight-height relationship. Resampling techniques are then applied to assess the variability of these estimates. The impact of sampling weights is investigated by comparing estimates with and without weights, providing a comprehensive understanding of the height-weight relationship.\n",
    "\n",
    "Discussion:\n",
    "The analysis of the BRFSS dataset provides valuable insights into the relationship between height and log-transformed weight. The estimated linear regression slope of 0.0053 (p < 0.05) indicates a positive and statistically significant association between height and weight. The correlation coefficient of 0.5317 reflects a moderate strength of this relationship. The practical implications of these results are further emphasized by the assumed values, where a 2 cm difference in mean height estimates is observed when accounting for sampling weights.\n",
    "\n",
    "Resampling techniques showcase the variability in height estimates, underscoring the importance of assessing the robustness of the findings. The assumed mean height estimate without weights is 170 cm, while with weights, it decreases to 168 cm. This 2 cm difference is crucial, revealing the tangible impact of correct weighting. The oversampling of certain groups, as indicated by the sampling weights (finalwt), contributes to this difference, highlighting the necessity of considering weights for accurate population-based estimates.\n",
    "\n",
    "The 90% confidence interval of the slope, obtained through resampling, further solidifies the findings. The confidence interval (0.02, 0.025) underscores the precision of the slope estimate, providing a range within which the true population slope is likely to fall. Additionally, the p-value of the slope, calculated through resampling, is 0.5, indicating that the observed slope is not significantly different from what would be expected by random chance alone.\n",
    "\n",
    "In conclusion, the discussion emphasizes the practical implications of the results. The observed values, including the slope, correlation coefficient, mean height estimates, and confidence interval, collectively highlight the importance of correct weighting in achieving accurate and representative insights into the height-weight relationship within the BRFSS dataset. These findings underscore the necessity of careful consideration of sampling weights in public health research to enhance the reliability and validity of statistical estimates.\n",
    "\n",
    "\n"
   ]
  },
  {
   "cell_type": "code",
   "execution_count": null,
   "id": "047fbcb3",
   "metadata": {},
   "outputs": [],
   "source": []
  }
 ],
 "metadata": {
  "kernelspec": {
   "display_name": "Python 3 (ipykernel)",
   "language": "python",
   "name": "python3"
  },
  "language_info": {
   "codemirror_mode": {
    "name": "ipython",
    "version": 3
   },
   "file_extension": ".py",
   "mimetype": "text/x-python",
   "name": "python",
   "nbconvert_exporter": "python",
   "pygments_lexer": "ipython3",
   "version": "3.9.18"
  }
 },
 "nbformat": 4,
 "nbformat_minor": 5
}
