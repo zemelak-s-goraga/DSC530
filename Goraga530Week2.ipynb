{
 "cells": [
  {
   "cell_type": "markdown",
   "id": "0c924fd5",
   "metadata": {},
   "source": [
    "Course: DSC530\n",
    "Assignment: Week2\n",
    "Author: Zemelak Goraga\n",
    "Date: 12/9/2023"
   ]
  },
  {
   "cell_type": "code",
   "execution_count": 1,
   "id": "e0594437",
   "metadata": {},
   "outputs": [
    {
     "name": "stdout",
     "output_type": "stream",
     "text": [
      "Hello World! My name is Goraga\n"
     ]
    }
   ],
   "source": [
    "# Display the text “Hello World! My name is ....\"\n",
    "print(\"Hello World! My name is Goraga\")"
   ]
  },
  {
   "cell_type": "code",
   "execution_count": 16,
   "id": "dece1865",
   "metadata": {},
   "outputs": [
    {
     "data": {
      "text/plain": [
       "8"
      ]
     },
     "execution_count": 16,
     "metadata": {},
     "output_type": "execute_result"
    }
   ],
   "source": [
    "# Add two numbers together\n",
    "num1 = 5\n",
    "num2 = 3\n",
    "num1 + num2"
   ]
  },
  {
   "cell_type": "code",
   "execution_count": 23,
   "id": "45704713",
   "metadata": {},
   "outputs": [
    {
     "data": {
      "text/plain": [
       "6"
      ]
     },
     "execution_count": 23,
     "metadata": {},
     "output_type": "execute_result"
    }
   ],
   "source": [
    "# Subtract a number from another number\n",
    "num3 = 8\n",
    "num4 = 2\n",
    "num3 - num4"
   ]
  },
  {
   "cell_type": "code",
   "execution_count": 20,
   "id": "55ca38b6",
   "metadata": {},
   "outputs": [
    {
     "data": {
      "text/plain": [
       "24"
      ]
     },
     "execution_count": 20,
     "metadata": {},
     "output_type": "execute_result"
    }
   ],
   "source": [
    "# Multiply two numbers\n",
    "num5 = 4\n",
    "num6 = 6\n",
    "num5 * num6"
   ]
  },
  {
   "cell_type": "code",
   "execution_count": 24,
   "id": "b31065c1",
   "metadata": {},
   "outputs": [
    {
     "data": {
      "text/plain": [
       "3.0"
      ]
     },
     "execution_count": 24,
     "metadata": {},
     "output_type": "execute_result"
    }
   ],
   "source": [
    "# Divide between two numbers\n",
    "num7 = 9\n",
    "num8 = 3\n",
    "num7 / num8"
   ]
  },
  {
   "cell_type": "code",
   "execution_count": 22,
   "id": "d33689ee",
   "metadata": {},
   "outputs": [
    {
     "data": {
      "text/plain": [
       "'Hello World'"
      ]
     },
     "execution_count": 22,
     "metadata": {},
     "output_type": "execute_result"
    }
   ],
   "source": [
    "# Concatenate two strings together (any words)\n",
    "string1 = \"Hello\"\n",
    "string2 = \"World\"\n",
    "concatenated_string = string1 + \" \" + string2\n",
    "concatenated_string"
   ]
  },
  {
   "cell_type": "code",
   "execution_count": 25,
   "id": "d2aceb25",
   "metadata": {},
   "outputs": [
    {
     "name": "stdout",
     "output_type": "stream",
     "text": [
      "[1, 'apple', 3.14, 'banana']\n"
     ]
    }
   ],
   "source": [
    "# Create a list of 4 items (can be strings, numbers, both)\n",
    "my_list = [1, \"apple\", 3.14, \"banana\"]\n",
    "print(my_list)"
   ]
  },
  {
   "cell_type": "code",
   "execution_count": 26,
   "id": "5600ec25",
   "metadata": {},
   "outputs": [
    {
     "name": "stdout",
     "output_type": "stream",
     "text": [
      "[1, 'apple', 3.14, 'banana', 'new_item']\n"
     ]
    }
   ],
   "source": [
    "# Append an item to your list (again, can be a string, number)\n",
    "my_list.append(\"new_item\")\n",
    "print(my_list)"
   ]
  },
  {
   "cell_type": "code",
   "execution_count": 27,
   "id": "0e478b32",
   "metadata": {},
   "outputs": [
    {
     "name": "stdout",
     "output_type": "stream",
     "text": [
      "(5, 'grape', 2.71, 'orange')\n"
     ]
    }
   ],
   "source": [
    "# Create a tuple with 4 items (can be strings, numbers, both)\n",
    "my_tuple = (5, \"grape\", 2.71, \"orange\")\n",
    "print(my_tuple)"
   ]
  }
 ],
 "metadata": {
  "kernelspec": {
   "display_name": "Python 3 (ipykernel)",
   "language": "python",
   "name": "python3"
  },
  "language_info": {
   "codemirror_mode": {
    "name": "ipython",
    "version": 3
   },
   "file_extension": ".py",
   "mimetype": "text/x-python",
   "name": "python",
   "nbconvert_exporter": "python",
   "pygments_lexer": "ipython3",
   "version": "3.9.18"
  }
 },
 "nbformat": 4,
 "nbformat_minor": 5
}
