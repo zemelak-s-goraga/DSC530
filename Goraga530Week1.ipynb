{
 "cells": [
  {
   "cell_type": "markdown",
   "id": "0c924fd5",
   "metadata": {},
   "source": [
    "DSC530\n",
    "Week2\n",
    "Programming Assignment Week2\n",
    "Author: Zemelak Goraga\n",
    "Date:12/05/2023"
   ]
  },
  {
   "cell_type": "code",
   "execution_count": 1,
   "id": "e0594437",
   "metadata": {},
   "outputs": [
    {
     "name": "stdout",
     "output_type": "stream",
     "text": [
      "Hello World! My name is Goraga\n"
     ]
    }
   ],
   "source": [
    "# Display the text “Hello World! My name is ....\"\n",
    "print(\"Hello World! My name is Goraga\")"
   ]
  },
  {
   "cell_type": "code",
   "execution_count": 2,
   "id": "b6f35a4c",
   "metadata": {},
   "outputs": [
    {
     "name": "stdout",
     "output_type": "stream",
     "text": [
      "Addition: 5 + 3 = 8\n"
     ]
    }
   ],
   "source": [
    "# Add two numbers together\n",
    "num1 = 5\n",
    "num2 = 3\n",
    "result_addition = num1 + num2\n",
    "print(f\"Addition: {num1} + {num2} = {result_addition}\")"
   ]
  },
  {
   "cell_type": "code",
   "execution_count": 3,
   "id": "44f2a9ec",
   "metadata": {},
   "outputs": [
    {
     "name": "stdout",
     "output_type": "stream",
     "text": [
      "Subtraction: 8 - 2 = 6\n"
     ]
    }
   ],
   "source": [
    "# Subtract a number from another number\n",
    "num3 = 8\n",
    "num4 = 2\n",
    "result_subtraction = num3 - num4\n",
    "print(f\"Subtraction: {num3} - {num4} = {result_subtraction}\")"
   ]
  },
  {
   "cell_type": "code",
   "execution_count": 4,
   "id": "32171866",
   "metadata": {},
   "outputs": [
    {
     "name": "stdout",
     "output_type": "stream",
     "text": [
      "Multiplication: 4 * 6 = 24\n"
     ]
    }
   ],
   "source": [
    "# Multiply two numbers\n",
    "num5 = 4\n",
    "num6 = 6\n",
    "result_multiplication = num5 * num6\n",
    "print(f\"Multiplication: {num5} * {num6} = {result_multiplication}\")"
   ]
  },
  {
   "cell_type": "code",
   "execution_count": 5,
   "id": "c8359833",
   "metadata": {},
   "outputs": [
    {
     "name": "stdout",
     "output_type": "stream",
     "text": [
      "Division: 9 / 3 = 3.0\n"
     ]
    }
   ],
   "source": [
    "# Divide between two numbers\n",
    "num7 = 9\n",
    "num8 = 3\n",
    "result_division = num7 / num8\n",
    "print(f\"Division: {num7} / {num8} = {result_division}\")"
   ]
  },
  {
   "cell_type": "code",
   "execution_count": 6,
   "id": "d33689ee",
   "metadata": {},
   "outputs": [
    {
     "name": "stdout",
     "output_type": "stream",
     "text": [
      "Concatenated String: Hello World\n"
     ]
    }
   ],
   "source": [
    "# Concatenate two strings together (any words)\n",
    "string1 = \"Hello\"\n",
    "string2 = \"World\"\n",
    "concatenated_string = string1 + \" \" + string2\n",
    "print(f\"Concatenated String: {concatenated_string}\")"
   ]
  },
  {
   "cell_type": "code",
   "execution_count": 7,
   "id": "d2aceb25",
   "metadata": {},
   "outputs": [
    {
     "name": "stdout",
     "output_type": "stream",
     "text": [
      "List: [1, 'apple', 3.14, 'banana']\n"
     ]
    }
   ],
   "source": [
    "# Create a list of 4 items (can be strings, numbers, both)\n",
    "my_list = [1, \"apple\", 3.14, \"banana\"]\n",
    "print(\"List:\", my_list)"
   ]
  },
  {
   "cell_type": "code",
   "execution_count": 8,
   "id": "5600ec25",
   "metadata": {},
   "outputs": [
    {
     "name": "stdout",
     "output_type": "stream",
     "text": [
      "Updated List: [1, 'apple', 3.14, 'banana', 'new_item']\n"
     ]
    }
   ],
   "source": [
    "# Append an item to your list (again, can be a string, number)\n",
    "my_list.append(\"new_item\")\n",
    "print(\"Updated List:\", my_list)"
   ]
  },
  {
   "cell_type": "code",
   "execution_count": 9,
   "id": "0e478b32",
   "metadata": {},
   "outputs": [
    {
     "name": "stdout",
     "output_type": "stream",
     "text": [
      "Tuple: (5, 'grape', 2.71, 'orange')\n"
     ]
    }
   ],
   "source": [
    "# Create a tuple with 4 items (can be strings, numbers, both)\n",
    "my_tuple = (5, \"grape\", 2.71, \"orange\")\n",
    "print(\"Tuple:\", my_tuple)"
   ]
  }
 ],
 "metadata": {
  "kernelspec": {
   "display_name": "Python 3 (ipykernel)",
   "language": "python",
   "name": "python3"
  },
  "language_info": {
   "codemirror_mode": {
    "name": "ipython",
    "version": 3
   },
   "file_extension": ".py",
   "mimetype": "text/x-python",
   "name": "python",
   "nbconvert_exporter": "python",
   "pygments_lexer": "ipython3",
   "version": "3.9.12"
  }
 },
 "nbformat": 4,
 "nbformat_minor": 5
}
