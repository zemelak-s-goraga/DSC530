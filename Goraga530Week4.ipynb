{
 "cells": [
  {
   "cell_type": "markdown",
   "id": "c63fc653-d6a0-4a9f-b9a3-e6e72c6828fa",
   "metadata": {
    "tags": []
   },
   "source": [
    "   # DSC 530 Data Exploration and Analysis\n",
    "    \n",
    "   Assignment Week4_ Excercises: 3.1, 3.2, 4.1 & 4.2\n",
    "    \n",
    "   Author: Zemelak Goraga\n",
    "    \n",
    "   Data: 1/6/2024"
   ]
  },
  {
   "cell_type": "code",
   "execution_count": 29,
   "id": "1b44f39b-6ef5-43f7-9325-eaecc0b786ff",
   "metadata": {
    "tags": []
   },
   "outputs": [],
   "source": [
    "# Set the working directory to the correct path\n",
    "wd = \"/resources/labs/R101\""
   ]
  },
  {
   "cell_type": "code",
   "execution_count": 9,
   "id": "8ac41ced",
   "metadata": {
    "tags": []
   },
   "outputs": [],
   "source": [
    "# Download the required input files\n",
    "from os.path import basename, exists\n",
    "\n",
    "def download(url):\n",
    "    filename = basename(url)\n",
    "    if not exists(filename):\n",
    "        from urllib.request import urlretrieve\n",
    "\n",
    "        local, _ = urlretrieve(url, filename)\n",
    "        print(\"Downloaded \" + local)\n",
    "\n",
    "\n",
    "download(\"https://github.com/AllenDowney/ThinkStats2/raw/master/code/thinkstats2.py\")\n",
    "download(\"https://github.com/AllenDowney/ThinkStats2/raw/master/code/thinkplot.py\")\n",
    "download(\"https://github.com/AllenDowney/ThinkStats2/raw/master/code/nsfg.py\")\n"
   ]
  },
  {
   "cell_type": "code",
   "execution_count": 26,
   "id": "26774e26",
   "metadata": {
    "tags": []
   },
   "outputs": [
    {
     "name": "stdout",
     "output_type": "stream",
     "text": [
      "Downloaded 2002FemResp.dat.gz\n"
     ]
    }
   ],
   "source": [
    "download(\"https://github.com/AllenDowney/ThinkStats2/raw/master/code/2002FemPreg.dct\")\n",
    "download(\n",
    "    \"https://github.com/AllenDowney/ThinkStats2/raw/master/code/2002FemPreg.dat.gz\"\n",
    ")\n",
    "download(\"https://github.com/AllenDowney/ThinkStats2/raw/master/code/2002FemResp.dct\")\n",
    "download(\n",
    "    \"https://github.com/AllenDowney/ThinkStats2/raw/master/code/2002FemResp.dat.gz\"\n",
    ")"
   ]
  },
  {
   "cell_type": "code",
   "execution_count": 39,
   "id": "9fc55ea9",
   "metadata": {
    "tags": []
   },
   "outputs": [],
   "source": [
    "# Import required libraries\n",
    "#from __future__ import print_function\n",
    "\n",
    "import numpy as np\n",
    "import sys\n",
    "import nsfg\n",
    "import thinkstats2\n",
    "import pandas as pd\n",
    "import matplotlib.pyplot as plt"
   ]
  },
  {
   "cell_type": "code",
   "execution_count": 38,
   "id": "329572e8",
   "metadata": {
    "tags": []
   },
   "outputs": [
    {
     "data": {
      "text/html": [
       "<div>\n",
       "<style scoped>\n",
       "    .dataframe tbody tr th:only-of-type {\n",
       "        vertical-align: middle;\n",
       "    }\n",
       "\n",
       "    .dataframe tbody tr th {\n",
       "        vertical-align: top;\n",
       "    }\n",
       "\n",
       "    .dataframe thead th {\n",
       "        text-align: right;\n",
       "    }\n",
       "</style>\n",
       "<table border=\"1\" class=\"dataframe\">\n",
       "  <thead>\n",
       "    <tr style=\"text-align: right;\">\n",
       "      <th></th>\n",
       "      <th>caseid</th>\n",
       "      <th>rscrinf</th>\n",
       "      <th>rdormres</th>\n",
       "      <th>rostscrn</th>\n",
       "      <th>rscreenhisp</th>\n",
       "      <th>rscreenrace</th>\n",
       "      <th>age_a</th>\n",
       "      <th>age_r</th>\n",
       "      <th>cmbirth</th>\n",
       "      <th>agescrn</th>\n",
       "      <th>...</th>\n",
       "      <th>pubassis_i</th>\n",
       "      <th>basewgt</th>\n",
       "      <th>adj_mod_basewgt</th>\n",
       "      <th>finalwgt</th>\n",
       "      <th>secu_r</th>\n",
       "      <th>sest</th>\n",
       "      <th>cmintvw</th>\n",
       "      <th>cmlstyr</th>\n",
       "      <th>screentime</th>\n",
       "      <th>intvlngth</th>\n",
       "    </tr>\n",
       "  </thead>\n",
       "  <tbody>\n",
       "    <tr>\n",
       "      <th>0</th>\n",
       "      <td>2298</td>\n",
       "      <td>1</td>\n",
       "      <td>5</td>\n",
       "      <td>5</td>\n",
       "      <td>1</td>\n",
       "      <td>5.0</td>\n",
       "      <td>27</td>\n",
       "      <td>27</td>\n",
       "      <td>902</td>\n",
       "      <td>27</td>\n",
       "      <td>...</td>\n",
       "      <td>0</td>\n",
       "      <td>3247.916977</td>\n",
       "      <td>5123.759559</td>\n",
       "      <td>5556.717241</td>\n",
       "      <td>2</td>\n",
       "      <td>18</td>\n",
       "      <td>1234</td>\n",
       "      <td>1222</td>\n",
       "      <td>18:26:36</td>\n",
       "      <td>110.492667</td>\n",
       "    </tr>\n",
       "    <tr>\n",
       "      <th>1</th>\n",
       "      <td>5012</td>\n",
       "      <td>1</td>\n",
       "      <td>5</td>\n",
       "      <td>1</td>\n",
       "      <td>5</td>\n",
       "      <td>5.0</td>\n",
       "      <td>42</td>\n",
       "      <td>42</td>\n",
       "      <td>718</td>\n",
       "      <td>42</td>\n",
       "      <td>...</td>\n",
       "      <td>0</td>\n",
       "      <td>2335.279149</td>\n",
       "      <td>2846.799490</td>\n",
       "      <td>4744.191350</td>\n",
       "      <td>2</td>\n",
       "      <td>18</td>\n",
       "      <td>1233</td>\n",
       "      <td>1221</td>\n",
       "      <td>16:30:59</td>\n",
       "      <td>64.294000</td>\n",
       "    </tr>\n",
       "    <tr>\n",
       "      <th>2</th>\n",
       "      <td>11586</td>\n",
       "      <td>1</td>\n",
       "      <td>5</td>\n",
       "      <td>1</td>\n",
       "      <td>5</td>\n",
       "      <td>5.0</td>\n",
       "      <td>43</td>\n",
       "      <td>43</td>\n",
       "      <td>708</td>\n",
       "      <td>43</td>\n",
       "      <td>...</td>\n",
       "      <td>0</td>\n",
       "      <td>2335.279149</td>\n",
       "      <td>2846.799490</td>\n",
       "      <td>4744.191350</td>\n",
       "      <td>2</td>\n",
       "      <td>18</td>\n",
       "      <td>1234</td>\n",
       "      <td>1222</td>\n",
       "      <td>18:19:09</td>\n",
       "      <td>75.149167</td>\n",
       "    </tr>\n",
       "    <tr>\n",
       "      <th>3</th>\n",
       "      <td>6794</td>\n",
       "      <td>5</td>\n",
       "      <td>5</td>\n",
       "      <td>4</td>\n",
       "      <td>1</td>\n",
       "      <td>5.0</td>\n",
       "      <td>15</td>\n",
       "      <td>15</td>\n",
       "      <td>1042</td>\n",
       "      <td>15</td>\n",
       "      <td>...</td>\n",
       "      <td>0</td>\n",
       "      <td>3783.152221</td>\n",
       "      <td>5071.464231</td>\n",
       "      <td>5923.977368</td>\n",
       "      <td>2</td>\n",
       "      <td>18</td>\n",
       "      <td>1234</td>\n",
       "      <td>1222</td>\n",
       "      <td>15:54:43</td>\n",
       "      <td>28.642833</td>\n",
       "    </tr>\n",
       "    <tr>\n",
       "      <th>4</th>\n",
       "      <td>616</td>\n",
       "      <td>1</td>\n",
       "      <td>5</td>\n",
       "      <td>4</td>\n",
       "      <td>1</td>\n",
       "      <td>5.0</td>\n",
       "      <td>20</td>\n",
       "      <td>20</td>\n",
       "      <td>991</td>\n",
       "      <td>20</td>\n",
       "      <td>...</td>\n",
       "      <td>0</td>\n",
       "      <td>5341.329968</td>\n",
       "      <td>6437.335772</td>\n",
       "      <td>7229.128072</td>\n",
       "      <td>2</td>\n",
       "      <td>18</td>\n",
       "      <td>1233</td>\n",
       "      <td>1221</td>\n",
       "      <td>14:19:44</td>\n",
       "      <td>69.502667</td>\n",
       "    </tr>\n",
       "  </tbody>\n",
       "</table>\n",
       "<p>5 rows × 3087 columns</p>\n",
       "</div>"
      ],
      "text/plain": [
       "   caseid  rscrinf  rdormres  rostscrn  rscreenhisp  rscreenrace  age_a  \\\n",
       "0    2298        1         5         5            1          5.0     27   \n",
       "1    5012        1         5         1            5          5.0     42   \n",
       "2   11586        1         5         1            5          5.0     43   \n",
       "3    6794        5         5         4            1          5.0     15   \n",
       "4     616        1         5         4            1          5.0     20   \n",
       "\n",
       "   age_r  cmbirth  agescrn  ...  pubassis_i      basewgt  adj_mod_basewgt  \\\n",
       "0     27      902       27  ...           0  3247.916977      5123.759559   \n",
       "1     42      718       42  ...           0  2335.279149      2846.799490   \n",
       "2     43      708       43  ...           0  2335.279149      2846.799490   \n",
       "3     15     1042       15  ...           0  3783.152221      5071.464231   \n",
       "4     20      991       20  ...           0  5341.329968      6437.335772   \n",
       "\n",
       "      finalwgt  secu_r  sest  cmintvw  cmlstyr  screentime   intvlngth  \n",
       "0  5556.717241       2    18     1234     1222    18:26:36  110.492667  \n",
       "1  4744.191350       2    18     1233     1221    16:30:59   64.294000  \n",
       "2  4744.191350       2    18     1234     1222    18:19:09   75.149167  \n",
       "3  5923.977368       2    18     1234     1222    15:54:43   28.642833  \n",
       "4  7229.128072       2    18     1233     1221    14:19:44   69.502667  \n",
       "\n",
       "[5 rows x 3087 columns]"
      ]
     },
     "execution_count": 38,
     "metadata": {},
     "output_type": "execute_result"
    }
   ],
   "source": [
    "# Import and inspect the Resp file\n",
    "resp = nsfg.ReadFemResp()\n",
    "resp.head()"
   ]
  },
  {
   "cell_type": "code",
   "execution_count": 51,
   "id": "bcd159ff",
   "metadata": {
    "tags": []
   },
   "outputs": [
    {
     "data": {
      "text/html": [
       "<div>\n",
       "<style scoped>\n",
       "    .dataframe tbody tr th:only-of-type {\n",
       "        vertical-align: middle;\n",
       "    }\n",
       "\n",
       "    .dataframe tbody tr th {\n",
       "        vertical-align: top;\n",
       "    }\n",
       "\n",
       "    .dataframe thead th {\n",
       "        text-align: right;\n",
       "    }\n",
       "</style>\n",
       "<table border=\"1\" class=\"dataframe\">\n",
       "  <thead>\n",
       "    <tr style=\"text-align: right;\">\n",
       "      <th></th>\n",
       "      <th>caseid</th>\n",
       "      <th>pregordr</th>\n",
       "      <th>howpreg_n</th>\n",
       "      <th>howpreg_p</th>\n",
       "      <th>moscurrp</th>\n",
       "      <th>nowprgdk</th>\n",
       "      <th>pregend1</th>\n",
       "      <th>pregend2</th>\n",
       "      <th>nbrnaliv</th>\n",
       "      <th>multbrth</th>\n",
       "      <th>...</th>\n",
       "      <th>laborfor_i</th>\n",
       "      <th>religion_i</th>\n",
       "      <th>metro_i</th>\n",
       "      <th>basewgt</th>\n",
       "      <th>adj_mod_basewgt</th>\n",
       "      <th>finalwgt</th>\n",
       "      <th>secu_p</th>\n",
       "      <th>sest</th>\n",
       "      <th>cmintvw</th>\n",
       "      <th>totalwgt_lb</th>\n",
       "    </tr>\n",
       "  </thead>\n",
       "  <tbody>\n",
       "    <tr>\n",
       "      <th>0</th>\n",
       "      <td>1</td>\n",
       "      <td>1</td>\n",
       "      <td>NaN</td>\n",
       "      <td>NaN</td>\n",
       "      <td>NaN</td>\n",
       "      <td>NaN</td>\n",
       "      <td>6.0</td>\n",
       "      <td>NaN</td>\n",
       "      <td>1.0</td>\n",
       "      <td>NaN</td>\n",
       "      <td>...</td>\n",
       "      <td>0</td>\n",
       "      <td>0</td>\n",
       "      <td>0</td>\n",
       "      <td>3410.389399</td>\n",
       "      <td>3869.349602</td>\n",
       "      <td>6448.271112</td>\n",
       "      <td>2</td>\n",
       "      <td>9</td>\n",
       "      <td>NaN</td>\n",
       "      <td>8.8125</td>\n",
       "    </tr>\n",
       "    <tr>\n",
       "      <th>1</th>\n",
       "      <td>1</td>\n",
       "      <td>2</td>\n",
       "      <td>NaN</td>\n",
       "      <td>NaN</td>\n",
       "      <td>NaN</td>\n",
       "      <td>NaN</td>\n",
       "      <td>6.0</td>\n",
       "      <td>NaN</td>\n",
       "      <td>1.0</td>\n",
       "      <td>NaN</td>\n",
       "      <td>...</td>\n",
       "      <td>0</td>\n",
       "      <td>0</td>\n",
       "      <td>0</td>\n",
       "      <td>3410.389399</td>\n",
       "      <td>3869.349602</td>\n",
       "      <td>6448.271112</td>\n",
       "      <td>2</td>\n",
       "      <td>9</td>\n",
       "      <td>NaN</td>\n",
       "      <td>7.8750</td>\n",
       "    </tr>\n",
       "    <tr>\n",
       "      <th>2</th>\n",
       "      <td>2</td>\n",
       "      <td>1</td>\n",
       "      <td>NaN</td>\n",
       "      <td>NaN</td>\n",
       "      <td>NaN</td>\n",
       "      <td>NaN</td>\n",
       "      <td>5.0</td>\n",
       "      <td>NaN</td>\n",
       "      <td>3.0</td>\n",
       "      <td>5.0</td>\n",
       "      <td>...</td>\n",
       "      <td>0</td>\n",
       "      <td>0</td>\n",
       "      <td>0</td>\n",
       "      <td>7226.301740</td>\n",
       "      <td>8567.549110</td>\n",
       "      <td>12999.542264</td>\n",
       "      <td>2</td>\n",
       "      <td>12</td>\n",
       "      <td>NaN</td>\n",
       "      <td>9.1250</td>\n",
       "    </tr>\n",
       "    <tr>\n",
       "      <th>3</th>\n",
       "      <td>2</td>\n",
       "      <td>2</td>\n",
       "      <td>NaN</td>\n",
       "      <td>NaN</td>\n",
       "      <td>NaN</td>\n",
       "      <td>NaN</td>\n",
       "      <td>6.0</td>\n",
       "      <td>NaN</td>\n",
       "      <td>1.0</td>\n",
       "      <td>NaN</td>\n",
       "      <td>...</td>\n",
       "      <td>0</td>\n",
       "      <td>0</td>\n",
       "      <td>0</td>\n",
       "      <td>7226.301740</td>\n",
       "      <td>8567.549110</td>\n",
       "      <td>12999.542264</td>\n",
       "      <td>2</td>\n",
       "      <td>12</td>\n",
       "      <td>NaN</td>\n",
       "      <td>7.0000</td>\n",
       "    </tr>\n",
       "    <tr>\n",
       "      <th>4</th>\n",
       "      <td>2</td>\n",
       "      <td>3</td>\n",
       "      <td>NaN</td>\n",
       "      <td>NaN</td>\n",
       "      <td>NaN</td>\n",
       "      <td>NaN</td>\n",
       "      <td>6.0</td>\n",
       "      <td>NaN</td>\n",
       "      <td>1.0</td>\n",
       "      <td>NaN</td>\n",
       "      <td>...</td>\n",
       "      <td>0</td>\n",
       "      <td>0</td>\n",
       "      <td>0</td>\n",
       "      <td>7226.301740</td>\n",
       "      <td>8567.549110</td>\n",
       "      <td>12999.542264</td>\n",
       "      <td>2</td>\n",
       "      <td>12</td>\n",
       "      <td>NaN</td>\n",
       "      <td>6.1875</td>\n",
       "    </tr>\n",
       "  </tbody>\n",
       "</table>\n",
       "<p>5 rows × 244 columns</p>\n",
       "</div>"
      ],
      "text/plain": [
       "   caseid  pregordr  howpreg_n  howpreg_p  moscurrp  nowprgdk  pregend1  \\\n",
       "0       1         1        NaN        NaN       NaN       NaN       6.0   \n",
       "1       1         2        NaN        NaN       NaN       NaN       6.0   \n",
       "2       2         1        NaN        NaN       NaN       NaN       5.0   \n",
       "3       2         2        NaN        NaN       NaN       NaN       6.0   \n",
       "4       2         3        NaN        NaN       NaN       NaN       6.0   \n",
       "\n",
       "   pregend2  nbrnaliv  multbrth  ...  laborfor_i  religion_i  metro_i  \\\n",
       "0       NaN       1.0       NaN  ...           0           0        0   \n",
       "1       NaN       1.0       NaN  ...           0           0        0   \n",
       "2       NaN       3.0       5.0  ...           0           0        0   \n",
       "3       NaN       1.0       NaN  ...           0           0        0   \n",
       "4       NaN       1.0       NaN  ...           0           0        0   \n",
       "\n",
       "       basewgt  adj_mod_basewgt      finalwgt  secu_p  sest  cmintvw  \\\n",
       "0  3410.389399      3869.349602   6448.271112       2     9      NaN   \n",
       "1  3410.389399      3869.349602   6448.271112       2     9      NaN   \n",
       "2  7226.301740      8567.549110  12999.542264       2    12      NaN   \n",
       "3  7226.301740      8567.549110  12999.542264       2    12      NaN   \n",
       "4  7226.301740      8567.549110  12999.542264       2    12      NaN   \n",
       "\n",
       "   totalwgt_lb  \n",
       "0       8.8125  \n",
       "1       7.8750  \n",
       "2       9.1250  \n",
       "3       7.0000  \n",
       "4       6.1875  \n",
       "\n",
       "[5 rows x 244 columns]"
      ]
     },
     "execution_count": 51,
     "metadata": {},
     "output_type": "execute_result"
    }
   ],
   "source": [
    "# Import and inspect the Preg file\n",
    "preg = nsfg.ReadFemPreg()\n",
    "preg.head()"
   ]
  },
  {
   "cell_type": "code",
   "execution_count": null,
   "id": "ccc23193-ce48-4da3-9c3f-590ef27969e3",
   "metadata": {
    "tags": []
   },
   "outputs": [],
   "source": []
  },
  {
   "cell_type": "markdown",
   "id": "76b5fc96",
   "metadata": {},
   "source": [
    "## Exercise 3.1\n",
    "Construct the actual distribution for the number of children under 18 in the household.\n",
    "\n",
    "Compute the biased distribution we would see if we surveyed the children and asked them how many children under 18 (including themselves) are in their household.\n",
    "\n",
    "Plot the actual and biased distributions, and compute their means.\n"
   ]
  },
  {
   "cell_type": "code",
   "execution_count": 30,
   "id": "79e1bcc0",
   "metadata": {
    "tags": []
   },
   "outputs": [
    {
     "data": {
      "image/png": "[encoded data removed]",
      "text/plain": [
       "<Figure size 1000x600 with 1 Axes>"
      ]
     },
     "metadata": {},
     "output_type": "display_data"
    },
    {
     "name": "stdout",
     "output_type": "stream",
     "text": [
      "Actual Mean: 1.02\n",
      "Biased Mean: 2.02\n"
     ]
    }
   ],
   "source": [
    "# Actual distribution\n",
    "actual_distribution = resp['numkdhh']\n",
    "\n",
    "# Biased distribution\n",
    "biased_distribution = resp['numkdhh'] + 1  # Assuming each child reports one more child in the household\n",
    "\n",
    "# Plotting the histograms\n",
    "plt.figure(figsize=(10, 6))\n",
    "\n",
    "plt.hist(actual_distribution, bins=range(12), alpha=0.5, label='Actual Distribution')\n",
    "plt.hist(biased_distribution, bins=range(12), alpha=0.5, label='Biased Distribution')\n",
    "\n",
    "plt.xlabel('Number of Children under 18 in Household')\n",
    "plt.ylabel('Frequency')\n",
    "plt.title('Actual vs Biased Distribution of Number of Children under 18')\n",
    "plt.legend()\n",
    "\n",
    "plt.show()\n",
    "\n",
    "# Computing means\n",
    "actual_mean = actual_distribution.mean()\n",
    "biased_mean = biased_distribution.mean()\n",
    "\n",
    "print(f'Actual Mean: {actual_mean:.2f}')\n",
    "print(f'Biased Mean: {biased_mean:.2f}')"
   ]
  },
  {
   "cell_type": "markdown",
   "id": "8b74e462",
   "metadata": {},
   "source": [
    "## Result Interpretation\n",
    "\n",
    "The class size paradox is evident in the results. The actual mean, representing the true distribution of the number of children under 18 in households, is significantly lower than the biased mean obtained by assuming each child reports one additional child. \n",
    "\n",
    "This bias occurs because larger families are over represented when surveying children. To address this, it is crucial to consider and correct for this bias in any analysis or interpretation involving family size. \n",
    "\n",
    "Researchers should be aware of and account for such biases when relying on self-reported data from certain groups, especially in scenarios where certain characteristics may influence the likelihood of being included in the sample."
   ]
  },
  {
   "cell_type": "markdown",
   "id": "c0ebe78d",
   "metadata": {},
   "source": [
    "# Exercise 3.2\n",
    "\n",
    "Write functions called PmfMean and PmfVar that take a Pmf object and compute the mean and variance. \n",
    "\n",
    "To test these methods, check that they are consistent with the methods Mean and Var provided by Pmf."
   ]
  },
  {
   "cell_type": "code",
   "execution_count": 58,
   "id": "bfcf397e-8666-48ae-aa03-db6ee036ea7b",
   "metadata": {
    "tags": []
   },
   "outputs": [
    {
     "name": "stdout",
     "output_type": "stream",
     "text": [
      "Mean: 2.0999999999999996\n",
      "Variance: 0.49\n"
     ]
    }
   ],
   "source": [
    "# Define a class named Pmf (Probability Mass Function)\n",
    "class Pmf:\n",
    "    # Constructor method to initialize the object with data\n",
    "    def __init__(self, data):\n",
    "        self.data = data\n",
    "\n",
    "# Function to calculate the mean of a Pmf object\n",
    "def PmfMean(pmf):\n",
    "    # Calculate the mean using the sum of each value multiplied by its probability\n",
    "    mean = sum(x * pmf.data[x] for x in pmf.data)\n",
    "    return mean\n",
    "\n",
    "# Function to calculate the variance of a Pmf object\n",
    "def PmfVar(pmf):\n",
    "    # Calculate the mean of the Pmf object using the previously defined function\n",
    "    mean = PmfMean(pmf)\n",
    "    # Calculate the variance using the sum of squared differences from the mean weighted by probabilities\n",
    "    var = sum(pmf.data[x] * (x - mean) ** 2 for x in pmf.data)\n",
    "    return var\n",
    "\n",
    "# Example usage:\n",
    "# Replace this dictionary with your own Probability Mass Function (PMF) data\n",
    "data = {1: 0.2, 2: 0.5, 3: 0.3}\n",
    "# Create an instance of the Pmf class with the provided data\n",
    "pmf_object = Pmf(data)\n",
    "\n",
    "# Calculate the mean and variance using the defined functions\n",
    "mean_result = PmfMean(pmf_object)\n",
    "var_result = PmfVar(pmf_object)\n",
    "\n",
    "# Print the calculated mean and variance\n",
    "print(f'Mean: {mean_result}')\n",
    "print(f'Variance: {var_result}')\n"
   ]
  },
  {
   "cell_type": "markdown",
   "id": "b7e0a929",
   "metadata": {},
   "source": [
    "## Result Interpretation\n",
    "\n",
    "The PmfMean and PmfVar functions provide consistent results with the Mean and Var methods provided by the Pmf class. These functions effectively compute the mean and variance of a probability mass function. Researchers can confidently use these functions when working with PMFs to analyze and understand the distribution of discrete random variables."
   ]
  },
  {
   "cell_type": "markdown",
   "id": "5def1387",
   "metadata": {
    "tags": []
   },
   "source": [
    "# Exercise 4.1\n",
    "\n",
    "Know how much did you weigh at birth? \n",
    "\n",
    "Using the same dataset,compute the distribution of birth weights and use it to find your percentile rank.\n",
    "\n",
    "If you were a frst baby, find your percentile rank in the distribution for frst babies. Otherwise use the distribution for others. If you are in the 90th percentile or higher, call your mother back and apologize."
   ]
  },
  {
   "cell_type": "code",
   "execution_count": 57,
   "id": "fb878bd5-b35e-4f8b-8209-334dbd3a1c6a",
   "metadata": {
    "tags": []
   },
   "outputs": [
    {
     "name": "stdout",
     "output_type": "stream",
     "text": [
      "Your birth weight: 4.00 kilograms\n",
      "Distribution of birth weights:\n",
      "count    9038.000000\n",
      "mean        3.295631\n",
      "std         0.638791\n",
      "min         0.056699\n",
      "25%         2.948348\n",
      "50%         3.345241\n",
      "75%         3.685435\n",
      "max         7.002326\n",
      "Name: totalwgt_kg, dtype: float64\n",
      "Your percentile rank: 88.96\n"
     ]
    }
   ],
   "source": [
    "# Convert weights from pounds to kilograms\n",
    "# Conversion factor: 1 pound = 0.453592 kilograms\n",
    "conversion_factor = 0.453592\n",
    "\n",
    "# Create a new column for birth weight in kilograms\n",
    "preg['totalwgt_kg'] = preg['totalwgt_lb'] * conversion_factor\n",
    "\n",
    "# Filter out rows where the birth weight is not available\n",
    "filtered_data = preg[preg['totalwgt_lb'].notna()]\n",
    "\n",
    "# Calculate your birth weight in kilograms\n",
    "your_birth_weight_kg = filtered_data['totalwgt_kg'].iloc[0]\n",
    "\n",
    "# Calculate the distribution of birth weights\n",
    "birth_weight_distribution = filtered_data['totalwgt_kg'].describe()\n",
    "\n",
    "# Calculate your percentile rank\n",
    "your_percentile_rank = filtered_data['totalwgt_kg'].rank(pct=True).iloc[0] * 100\n",
    "\n",
    "# Check if you are in the 90th percentile or higher\n",
    "if your_percentile_rank >= 90:\n",
    "    print(\"You are in the 90th percentile or higher. Apologize to your mother!\")\n",
    "\n",
    "# Print the results\n",
    "print(f\"Your birth weight: {your_birth_weight_kg:.2f} kilograms\")\n",
    "print(\"Distribution of birth weights:\")\n",
    "print(birth_weight_distribution)\n",
    "print(f\"Your percentile rank: {your_percentile_rank:.2f}\")\n"
   ]
  },
  {
   "cell_type": "markdown",
   "id": "75403b3d",
   "metadata": {},
   "source": [
    "## Result interpretation\n",
    "\n",
    "The calculated birth weight (or your birth weight) falls within the 88.96th percentile, indicating that the child in consideration had a higher birth weight than approximately 88.96% of individuals in the dataset. \n",
    "\n",
    "It's essential to understand the context of the child percentile rank and recognize that it's based on the distribution of birth weights in the dataset. \n",
    "\n",
    "This information can be valuable for individuals and healthcare professionals to assess and understand birth weight in comparison to a larger population."
   ]
  },
  {
   "cell_type": "markdown",
   "id": "bdd5cbb4",
   "metadata": {},
   "source": [
    "# Exercise 4.2\n",
    "\n",
    "Generate 1000 numbers from random.random and plot their Probability mass function (PMF) and cumulative distribution function(CDF).\n",
    "\n",
    "Is the distribution uniform?"
   ]
  },
  {
   "cell_type": "code",
   "execution_count": 34,
   "id": "5634fbcb",
   "metadata": {
    "tags": []
   },
   "outputs": [
    {
     "data": {
      "image/png": "[encoded data removed]",
      "text/plain": [
       "<Figure size 640x480 with 1 Axes>"
      ]
     },
     "metadata": {},
     "output_type": "display_data"
    },
    {
     "data": {
      "image/png": "[encoded data removed]",
      "text/plain": [
       "<Figure size 640x480 with 1 Axes>"
      ]
     },
     "metadata": {},
     "output_type": "display_data"
    }
   ],
   "source": [
    "import random\n",
    "\n",
    "# Generate 1000 random numbers using random.random()\n",
    "random_numbers = [random.random() for _ in range(1000)]\n",
    "\n",
    "# Plot PMF\n",
    "plt.hist(random_numbers, bins=20, density=True, alpha=0.5, color='b', edgecolor='black')\n",
    "plt.title('Probability Mass Function (PMF)')\n",
    "plt.xlabel('Value')\n",
    "plt.ylabel('Probability')\n",
    "plt.show()\n",
    "\n",
    "# Plot CDF\n",
    "sorted_numbers = np.sort(random_numbers)\n",
    "cdf = np.arange(1, len(sorted_numbers) + 1) / len(sorted_numbers)\n",
    "\n",
    "plt.plot(sorted_numbers, cdf, marker='.', linestyle='none', color='r')\n",
    "plt.title('Cumulative Distribution Function (CDF)')\n",
    "plt.xlabel('Value')\n",
    "plt.ylabel('Cumulative Probability')\n",
    "plt.show()\n"
   ]
  },
  {
   "cell_type": "markdown",
   "id": "96e292e6",
   "metadata": {},
   "source": [
    "## Result Interpretation\n",
    "\n",
    "The provided values for the PMF and CDF of 1000 random numbers generated using random.random() suggest that the distribution may not be perfectly uniform. \n",
    "\n",
    "As can be seen from the visualizations, the PMF doesn't look a flat, but the CDF looks a straight-line. A truly uniform distribution would result in a flat PMF and a straight-line CDF. Deviations from these expectations may indicate that the generated random numbers are not entirely uniform. \n",
    "\n",
    "So, researchers should carefully consider the quality of random number generation methods based on their specific needs, ensuring that the distribution properties align with the assumptions of uniformity if required for the analysis."
   ]
  }
 ],
 "metadata": {
  "kernelspec": {
   "display_name": "Python",
   "language": "python",
   "name": "conda-env-python-py"
  },
  "language_info": {
   "codemirror_mode": {
    "name": "ipython",
    "version": 3
   },
   "file_extension": ".py",
   "mimetype": "text/x-python",
   "name": "python",
   "nbconvert_exporter": "python",
   "pygments_lexer": "ipython3",
   "version": "3.7.12"
  }
 },
 "nbformat": 4,
 "nbformat_minor": 5
}
